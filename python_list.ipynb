{
 "cells": [
  {
   "cell_type": "markdown",
   "metadata": {},
   "source": [
    "## list "
   ]
  },
  {
   "cell_type": "code",
   "execution_count": 8,
   "metadata": {},
   "outputs": [
    {
     "name": "stdout",
     "output_type": "stream",
     "text": [
      "96\n"
     ]
    }
   ],
   "source": [
    "#= [1,2,3,4,5]\n",
    "l= [-3,-4,2,1,4]\n",
    "def list_sum(l):\n",
    "    res = 1\n",
    "    for i in l:\n",
    "        res= res * i\n",
    "        \n",
    "    return res\n",
    "print(list_sum(l))"
   ]
  },
  {
   "cell_type": "code",
   "execution_count": 20,
   "metadata": {},
   "outputs": [
    {
     "name": "stdout",
     "output_type": "stream",
     "text": [
      "3\n"
     ]
    }
   ],
   "source": [
    "l1 = [334,3,45,67,88]\n",
    "l1.sort()\n",
    "print(l1[0])"
   ]
  },
  {
   "cell_type": "code",
   "execution_count": 19,
   "metadata": {},
   "outputs": [
    {
     "name": "stdout",
     "output_type": "stream",
     "text": [
      "-5\n"
     ]
    }
   ],
   "source": [
    "l2 = [3,34,-5,6]\n",
    "def smallest_item(l2):\n",
    "    small_item = l2[0]\n",
    "    for i in l2:\n",
    "        if i<small_item:\n",
    "            small_item = i\n",
    "    return small_item\n",
    "print(smallest_item(l2))"
   ]
  },
  {
   "cell_type": "code",
   "execution_count": 99,
   "metadata": {},
   "outputs": [
    {
     "name": "stdout",
     "output_type": "stream",
     "text": [
      "3\n"
     ]
    }
   ],
   "source": [
    "sam_list = ['xyx','abbc','12221','aaa']\n",
    "## counting the number of string containing same at first and end\n",
    "\n",
    "def count_list(lst):\n",
    "    count = 0\n",
    "    for i in lst:\n",
    "        if len(i)>=2:\n",
    "            if i[0] == i[-1]:\n",
    "                count+=1\n",
    "    return count\n",
    "print(count_list(sam_list))\n"
   ]
  },
  {
   "cell_type": "code",
   "execution_count": 28,
   "metadata": {},
   "outputs": [
    {
     "name": "stdout",
     "output_type": "stream",
     "text": [
      "[(1, 3), (2, 1), (2, 5), (3, 2), (4, 2)]\n"
     ]
    }
   ],
   "source": [
    "sam_list = [(2,1),(3,2),(1,3),(4,2),(2,5)]\n",
    "sam_list.sort()\n",
    "print(sam_list)"
   ]
  },
  {
   "cell_type": "code",
   "execution_count": 34,
   "metadata": {},
   "outputs": [
    {
     "name": "stdout",
     "output_type": "stream",
     "text": [
      "[2, 3, 4, 5, 6]\n"
     ]
    }
   ],
   "source": [
    "#l = [ 2,3,4,5,4,2]\n",
    "# removing  the duplicate\n",
    "\n",
    "def rmv_dup(lst):\n",
    "    count = 0\n",
    "    new_lst = []\n",
    "    for i in lst:\n",
    "        if i in new_lst:\n",
    "            count+=1\n",
    "            \n",
    "        else:\n",
    "            new_lst.append(i)\n",
    "    return new_lst\n",
    "l = [2,2,3,4,5,6,3]\n",
    "print(rmv_dup(l))\n",
    "        "
   ]
  },
  {
   "cell_type": "code",
   "execution_count": 39,
   "metadata": {},
   "outputs": [
    {
     "name": "stdout",
     "output_type": "stream",
     "text": [
      "['tomorrow', 'will', 'better', 'than', 'today']\n"
     ]
    }
   ],
   "source": [
    "# finding the list greater than given len\n",
    "\n",
    "def new_list(str,n):\n",
    "    lst = []\n",
    "    txt = str.split(\" \")\n",
    "    for i in txt:\n",
    "        if len(i)>n:\n",
    "            lst.append(i)\n",
    "    return lst\n",
    "print(new_list(\"tomorrow will be better than today\",3))"
   ]
  },
  {
   "cell_type": "code",
   "execution_count": 121,
   "metadata": {},
   "outputs": [
    {
     "name": "stdout",
     "output_type": "stream",
     "text": [
      "['ur', 'she']\n"
     ]
    }
   ],
   "source": [
    "a = [\"i\",\"me\",\"u\",\"ur\",\"she\"]\n",
    "a  = [x for (i,x) in enumerate(a) if i not in(0,1,2)]\n",
    "\n",
    "print(a)"
   ]
  },
  {
   "cell_type": "code",
   "execution_count": 52,
   "metadata": {},
   "outputs": [
    {
     "name": "stdout",
     "output_type": "stream",
     "text": [
      "0 i\n",
      "1 u\n",
      "2 me\n",
      "3 fuck\n"
     ]
    }
   ],
   "source": [
    "a = ['i','u','me','fuck']\n",
    "for i,x in enumerate(a):\n",
    "    print(i,x)"
   ]
  },
  {
   "cell_type": "code",
   "execution_count": 55,
   "metadata": {},
   "outputs": [
    {
     "name": "stdout",
     "output_type": "stream",
     "text": [
      "[8, 9, 7]\n"
     ]
    }
   ],
   "source": [
    "l1 = [7,8,9]\n",
    "l2 = [1,2,3]\n",
    "print(list((set(l1))-(set(l2))))"
   ]
  },
  {
   "cell_type": "code",
   "execution_count": 57,
   "metadata": {},
   "outputs": [
    {
     "name": "stdout",
     "output_type": "stream",
     "text": [
      "0 1\n",
      "1 2\n",
      "2 3\n",
      "3 5\n"
     ]
    }
   ],
   "source": [
    "a =[1,2,3,5]\n",
    "for i in range(len(a)):\n",
    "    print(i,a[i])"
   ]
  },
  {
   "cell_type": "code",
   "execution_count": 4,
   "metadata": {},
   "outputs": [
    {
     "name": "stdout",
     "output_type": "stream",
     "text": [
      "2\n",
      "fuck\n"
     ]
    }
   ],
   "source": [
    "l1 = ['f','u','c','k']\n",
    "print(l1.index('c'))\n",
    "l2 = ''.join(l1)\n",
    "print(l2)"
   ]
  },
  {
   "cell_type": "code",
   "execution_count": 6,
   "metadata": {},
   "outputs": [
    {
     "name": "stdout",
     "output_type": "stream",
     "text": [
      "[1, 2, 3, 4, 5, 6, 7, 8, 9]\n"
     ]
    }
   ],
   "source": [
    "import itertools\n",
    "org_list = [[1,2,3],[4,5,6],[7,8,9]]\n",
    "new = list(itertools.chain(*org_list))\n",
    "print(new)"
   ]
  },
  {
   "cell_type": "code",
   "execution_count": 9,
   "metadata": {},
   "outputs": [
    {
     "name": "stdout",
     "output_type": "stream",
     "text": [
      "55\n"
     ]
    }
   ],
   "source": [
    "l1 = [45,34,76,76,44,45,55,55]\n",
    "l2 = []\n",
    "for i in l1:\n",
    "    if i not in l2:\n",
    "        l2.append(i)\n",
    "l2.sort()\n",
    "print(l2[-2])"
   ]
  },
  {
   "cell_type": "code",
   "execution_count": 16,
   "metadata": {},
   "outputs": [
    {
     "ename": "IndentationError",
     "evalue": "expected an indented block (<ipython-input-16-698ebf08cb2b>, line 5)",
     "output_type": "error",
     "traceback": [
      "\u001b[1;36m  File \u001b[1;32m\"<ipython-input-16-698ebf08cb2b>\"\u001b[1;36m, line \u001b[1;32m5\u001b[0m\n\u001b[1;33m    return (i)\u001b[0m\n\u001b[1;37m         ^\u001b[0m\n\u001b[1;31mIndentationError\u001b[0m\u001b[1;31m:\u001b[0m expected an indented block\n"
     ]
    }
   ],
   "source": [
    "import collections\n",
    "a = [2,2,3,4,1,2,4,5,6,3,4,5,6]\n",
    "for i in a:\n",
    "    if i in range(1,4):\n",
    "    \n",
    "#b = collections.Counter(a)\n",
    "#print(b)"
   ]
  },
  {
   "cell_type": "code",
   "execution_count": 6,
   "metadata": {},
   "outputs": [],
   "source": [
    "color  = ['red','green','orange','black']\n",
    "#upper_colur = []\n",
    "#for col in color:\n",
    "#    upper_colur.append(col.upper())\n",
    "#print(upper_colur)"
   ]
  },
  {
   "cell_type": "code",
   "execution_count": 7,
   "metadata": {},
   "outputs": [
    {
     "name": "stdout",
     "output_type": "stream",
     "text": [
      "['RED', 'GREEN', 'ORANGE', 'BLACK']\n"
     ]
    }
   ],
   "source": [
    "upper_col = [col.upper() for col in color]\n",
    "print(upper_col)"
   ]
  },
  {
   "cell_type": "code",
   "execution_count": 9,
   "metadata": {},
   "outputs": [
    {
     "name": "stdout",
     "output_type": "stream",
     "text": [
      "['red', 'green', 'orange', 'black']\n"
     ]
    }
   ],
   "source": [
    "upper_col = color[:]\n",
    "print(upper_col)"
   ]
  },
  {
   "cell_type": "code",
   "execution_count": 10,
   "metadata": {},
   "outputs": [
    {
     "data": {
      "text/plain": [
       "['red', 'green', 'orange', 'pink', 'black']"
      ]
     },
     "execution_count": 10,
     "metadata": {},
     "output_type": "execute_result"
    }
   ],
   "source": [
    "color.insert(3,'pink')\n",
    "color"
   ]
  },
  {
   "cell_type": "code",
   "execution_count": 15,
   "metadata": {},
   "outputs": [
    {
     "name": "stdout",
     "output_type": "stream",
     "text": [
      "False\n"
     ]
    }
   ],
   "source": [
    "a = [{1,3},{},{}]\n",
    "print(all(not i for i in a))"
   ]
  },
  {
   "cell_type": "code",
   "execution_count": 16,
   "metadata": {},
   "outputs": [
    {
     "name": "stdout",
     "output_type": "stream",
     "text": [
      "5\n"
     ]
    }
   ],
   "source": [
    "def dic_depth(d):\n",
    "    if isinstance(d,dict):\n",
    "        return 1 + (max(map(dic_depth,d.values())) if d else 0)\n",
    "    return 0\n",
    "dic = {'a':1,'b':{'c':{'d':{'e':{}}}}}\n",
    "print(dic_depth(dic))"
   ]
  },
  {
   "cell_type": "code",
   "execution_count": 18,
   "metadata": {},
   "outputs": [
    {
     "name": "stdout",
     "output_type": "stream",
     "text": [
      "[[10, 20], [40], [30, 56, 25], [33]]\n"
     ]
    }
   ],
   "source": [
    "l =  [[10, 20], [40], [30, 56, 25], [10, 20], [33], [40]]\n",
    "def rmv_dup(lst):\n",
    "    new_lst = []\n",
    "    for i in lst:\n",
    "        if i in new_lst:\n",
    "            pass\n",
    "        else:\n",
    "            new_lst.append(i)\n",
    "    return new_lst\n",
    "print(rmv_dup(l))"
   ]
  },
  {
   "cell_type": "code",
   "execution_count": 129,
   "metadata": {},
   "outputs": [
    {
     "name": "stdout",
     "output_type": "stream",
     "text": [
      "['fuck10', 'fuck20', 'fuck30']\n",
      "[40, 50, 10, 20, 30]\n"
     ]
    }
   ],
   "source": [
    "a = [10,20,30]\n",
    "print(['fuck{0}'.format(i) for i in a])\n",
    "b = [40,50,60]\n",
    "b[-1:] = a\n",
    "print(b)"
   ]
  },
  {
   "cell_type": "code",
   "execution_count": 30,
   "metadata": {},
   "outputs": [
    {
     "name": "stdout",
     "output_type": "stream",
     "text": [
      "[60, 55, 66]\n"
     ]
    }
   ],
   "source": [
    "a = [40,50,60,55,45,66]\n",
    "b  = 50\n",
    "l = []\n",
    "for i in a:\n",
    "    if i>b:\n",
    "        l.append(i)\n",
    "print(l)"
   ]
  },
  {
   "cell_type": "code",
   "execution_count": 38,
   "metadata": {},
   "outputs": [
    {
     "name": "stdout",
     "output_type": "stream",
     "text": [
      "10 20 30\n"
     ]
    }
   ],
   "source": [
    "print(*a)"
   ]
  },
  {
   "cell_type": "code",
   "execution_count": 127,
   "metadata": {},
   "outputs": [
    {
     "name": "stdout",
     "output_type": "stream",
     "text": [
      "(5, 1)\n"
     ]
    }
   ],
   "source": [
    "a= [(1,2),(3,4),(5,1)]\n",
    "print(min(a, key = lambda x: (x[1], x[0])))"
   ]
  },
  {
   "cell_type": "code",
   "execution_count": 47,
   "metadata": {},
   "outputs": [
    {
     "name": "stdout",
     "output_type": "stream",
     "text": [
      "[1, 2, 3, 4, 5, 6, [3, 4, 5]]\n",
      "[1, 2, 3, 4, 5, 6, 9, 8, 7]\n"
     ]
    }
   ],
   "source": [
    "x = [1,2,3,4,5,6]\n",
    "x.insert(x[-1],[3,4,5])\n",
    "print(x)\n",
    "y = [9,8,7]\n",
    "x[-1:] = y\n",
    "print(x)"
   ]
  },
  {
   "cell_type": "code",
   "execution_count": 48,
   "metadata": {},
   "outputs": [
    {
     "name": "stdout",
     "output_type": "stream",
     "text": [
      "['l', 'e', 't', 's', ' ', 'm', 'a', 'k', 'e', ' ', 'o', 'u', 't']\n"
     ]
    }
   ],
   "source": [
    "a = \"lets make out\"\n",
    "b = list(a)\n",
    "print(b)"
   ]
  },
  {
   "cell_type": "code",
   "execution_count": 49,
   "metadata": {},
   "outputs": [
    {
     "name": "stdout",
     "output_type": "stream",
     "text": [
      "0\n"
     ]
    }
   ],
   "source": [
    "import itertools\n",
    "a = itertools.count()\n",
    "print(next(a))"
   ]
  },
  {
   "cell_type": "code",
   "execution_count": 54,
   "metadata": {},
   "outputs": [
    {
     "name": "stdout",
     "output_type": "stream",
     "text": [
      "[1, 2, 3]\n"
     ]
    }
   ],
   "source": [
    "x = [1,2,3,4,5,6]\n",
    "y = [4,5,6]\n",
    "print(list(set(x)-set(y)))"
   ]
  },
  {
   "cell_type": "code",
   "execution_count": 124,
   "metadata": {},
   "outputs": [
    {
     "name": "stdout",
     "output_type": "stream",
     "text": [
      "[[1, 4, 7, 10, 13, 16], [2, 5, 8, 11, 14], [3, 6, 9, 12, 15]]\n"
     ]
    }
   ],
   "source": [
    "x = [1,2,3,4,5,6,7,8,9,10,11,12,13,14,15,16]\n",
    "def new_list(s,step):\n",
    "    return [s[i::step] for i in range(step)]\n",
    "    for i in range(step):\n",
    "        return  [s[i::step]]\n",
    "        \n",
    "   \n",
    "print(new_list(x,3))"
   ]
  },
  {
   "cell_type": "code",
   "execution_count": 75,
   "metadata": {},
   "outputs": [
    {
     "name": "stdout",
     "output_type": "stream",
     "text": [
      "[{'a': 'a', 'b': '1'}, {'a': 'b', 'b': '2'}, {'a': 'c', 'b': '3'}, {'a': 'd', 'b': '4'}]\n"
     ]
    }
   ],
   "source": [
    "a = ['a','b','c','d']\n",
    "b = ['1','2','3','4']\n",
    "print([{'a':x,'b':y}for x,y in zip(a,b)])\n"
   ]
  },
  {
   "cell_type": "code",
   "execution_count": 82,
   "metadata": {},
   "outputs": [
    {
     "name": "stdout",
     "output_type": "stream",
     "text": [
      "[[1, 2, 3, 4, 5], [6, 7, 8, 9, 10], [11, 12, 13, 14, 15], [16, 17, 18, 19, 20], [21, 22, 23, 24, 25]]\n"
     ]
    }
   ],
   "source": [
    "\n",
    "l= [[5*i+j for j in range (1,6)]for i in range(5)]\n",
    "print(l)"
   ]
  },
  {
   "cell_type": "code",
   "execution_count": 84,
   "metadata": {},
   "outputs": [
    {
     "name": "stdout",
     "output_type": "stream",
     "text": [
      "('lol', 'bondage', 'boon') ('boony', 'vex', 'benign') ('baffle', 'bare')\n"
     ]
    }
   ],
   "source": [
    "a= [(\"lol\",\"bondage\",\"boon\"),(\"boony\",\"vex\",\"benign\"),(\"baffle\",\"bare\")]\n",
    "x,y,z = a\n",
    "print(x,y,z)"
   ]
  },
  {
   "cell_type": "code",
   "execution_count": 88,
   "metadata": {},
   "outputs": [
    {
     "name": "stdout",
     "output_type": "stream",
     "text": [
      "a b c d\n",
      "{'g', 'h'}\n"
     ]
    }
   ],
   "source": [
    "l1 = ['a','b','c','d','e','f']\n",
    "l2 = ['e','f','g','h']\n",
    "print(*(sorted(set(l1)-set(l2))))\n",
    "print(set(l2)-set(l1))"
   ]
  },
  {
   "cell_type": "code",
   "execution_count": 95,
   "metadata": {},
   "outputs": [
    {
     "name": "stdout",
     "output_type": "stream",
     "text": [
      "111213\n"
     ]
    }
   ],
   "source": [
    "a = [11,12,13]\n",
    "\n",
    "for i in a:\n",
    "    b = int(''.join(map(str,a)))\n",
    "print(b)\n"
   ]
  },
  {
   "cell_type": "code",
   "execution_count": 96,
   "metadata": {},
   "outputs": [
    {
     "name": "stdout",
     "output_type": "stream",
     "text": [
      "48\n"
     ]
    }
   ],
   "source": [
    "a = [ 1,2,34,5,6]\n",
    "print(sum(a))"
   ]
  },
  {
   "cell_type": "code",
   "execution_count": 103,
   "metadata": {},
   "outputs": [
    {
     "name": "stdout",
     "output_type": "stream",
     "text": [
      "[(1, 2), (1, 3), (2, 4), (1, 5)]\n"
     ]
    }
   ],
   "source": [
    "def last(n): return n[-1]\n",
    "\n",
    "def tuple_sort(tuple):\n",
    "    return sorted(tuple,key = last)\n",
    "l = [(1,2),(2,4),(1,3),(1,5)]\n",
    "print(tuple_sort(l))"
   ]
  },
  {
   "cell_type": "code",
   "execution_count": 109,
   "metadata": {},
   "outputs": [
    {
     "name": "stdout",
     "output_type": "stream",
     "text": [
      "True\n"
     ]
    }
   ],
   "source": [
    "l1 = [1,2,3,45,5]\n",
    "l2 = [3,4,55,6]\n",
    "if set(l1)-set(l2)!=0:\n",
    "    print( True)\n",
    "else:\n",
    "    print( False)\n"
   ]
  },
  {
   "cell_type": "code",
   "execution_count": 123,
   "metadata": {},
   "outputs": [
    {
     "name": "stdout",
     "output_type": "stream",
     "text": [
      "[[['*', '*', '*'], ['*', '*', '*'], ['*', '*', '*']], [['*', '*', '*'], ['*', '*', '*'], ['*', '*', '*']]]\n"
     ]
    }
   ],
   "source": [
    "a = [[['*'for j in range(3)]for j in range(3)]for i in range(2)]\n",
    "print(a)"
   ]
  },
  {
   "cell_type": "code",
   "execution_count": 12,
   "metadata": {},
   "outputs": [
    {
     "name": "stdout",
     "output_type": "stream",
     "text": [
      "0\n",
      "1\n",
      "2\n"
     ]
    }
   ],
   "source": [
    "arr = [i for i in range(5)]\n",
    "for j in range(3):\n",
    "    print(arr[j])\n"
   ]
  },
  {
   "cell_type": "code",
   "execution_count": 13,
   "metadata": {},
   "outputs": [
    {
     "data": {
      "text/plain": [
       "[0, 1, 2, 3, 4, 7]"
      ]
     },
     "execution_count": 13,
     "metadata": {},
     "output_type": "execute_result"
    }
   ],
   "source": [
    "arr.append(7)\n",
    "arr"
   ]
  },
  {
   "cell_type": "code",
   "execution_count": 14,
   "metadata": {},
   "outputs": [
    {
     "data": {
      "text/plain": [
       "[7, 4, 3, 2, 1, 0]"
      ]
     },
     "execution_count": 14,
     "metadata": {},
     "output_type": "execute_result"
    }
   ],
   "source": [
    "arr.reverse()\n",
    "arr"
   ]
  },
  {
   "cell_type": "code",
   "execution_count": 18,
   "metadata": {},
   "outputs": [
    {
     "name": "stdout",
     "output_type": "stream",
     "text": [
      "length of an imtem 4\n"
     ]
    }
   ],
   "source": [
    "from array import *\n",
    "arr = array('i',[1,2,3,4])\n",
    "print(\"length of an item\",arr.itemsize)"
   ]
  },
  {
   "cell_type": "code",
   "execution_count": 39,
   "metadata": {},
   "outputs": [
    {
     "name": "stdout",
     "output_type": "stream",
     "text": [
      "the new created array is :1 2 3 4 5 3\n",
      "array('i', [1, 2, 5])\n"
     ]
    }
   ],
   "source": [
    "from array import *\n",
    "arr = array('i',[1,2,3,4,5])\n",
    "print(\"the new created array is :\",end = \"\")\n",
    "for i in range(0,5):\n",
    "    print(arr[i],end = \" \")\n",
    "print(arr.pop(2))\n",
    "arr.remove(4)\n",
    "print(arr)"
   ]
  },
  {
   "cell_type": "code",
   "execution_count": 49,
   "metadata": {},
   "outputs": [
    {
     "name": "stdout",
     "output_type": "stream",
     "text": [
      "1 2 3 4 5 6 7 8 \n",
      "the index of 6 is : 5\n",
      "\n",
      "current memory address is : (2147273729424, 8)\n",
      "the length of memory is : 4\n"
     ]
    }
   ],
   "source": [
    "l = [1,2,3,4,5,6,7,8,]\n",
    "arrr = array('i',l)\n",
    "for i in range(0,len(arrr)):\n",
    "    print(arrr[i],end = \" \")\n",
    "print(\"\\nthe index of 6 is :\",arrr.index(6))\n",
    "print(\"\")\n",
    "print(\"current memory address is :\",arrr.buffer_info())\n",
    "print(\"the length of memory is :\",arrr.itemsize)"
   ]
  },
  {
   "cell_type": "code",
   "execution_count": 58,
   "metadata": {},
   "outputs": [
    {
     "name": "stdout",
     "output_type": "stream",
     "text": [
      "array('i', [3, 4, 5, 6, 78, 9])\n",
      "the occurance of 78 is  4\n",
      "array('i', [3, 4, 5, 6, 78, 9, 10])\n"
     ]
    }
   ],
   "source": [
    "arr3 = array('i',[3,4,5,6,78,9])\n",
    "print(str(arr3))\n",
    "print(\"the occurance of 78 is \",(arr3.index(78)))\n",
    "arr3.append(10)\n",
    "print(arr3)\n",
    "      \n",
    "         \n"
   ]
  },
  {
   "cell_type": "code",
   "execution_count": 65,
   "metadata": {},
   "outputs": [
    {
     "name": "stdout",
     "output_type": "stream",
     "text": [
      "byte ti strings\n",
      "b'xabcde'\n"
     ]
    }
   ],
   "source": [
    "\n",
    "arr4 = array('b',[120,97,98,99,100,101])\n",
    "print(\"byte ti strings\")\n",
    "s = arr4.tobytes()\n",
    "print(s)"
   ]
  },
  {
   "cell_type": "code",
   "execution_count": 70,
   "metadata": {},
   "outputs": [
    {
     "name": "stdout",
     "output_type": "stream",
     "text": [
      "array('i', [1, 2, 3, 4, 5, 67, 8, 8])\n"
     ]
    }
   ],
   "source": [
    "arr5 = array('i',[1,2])\n",
    "lst = [3,4,5,67,8,8]\n",
    "arr5.fromlist(lst)\n",
    "\n",
    "print(arr5)"
   ]
  },
  {
   "cell_type": "code",
   "execution_count": 77,
   "metadata": {},
   "outputs": [
    {
     "data": {
      "text/plain": [
       "array('i', [1, 2, 3, 4, 5, 6, 8, 4, 4, 8])"
      ]
     },
     "execution_count": 77,
     "metadata": {},
     "output_type": "execute_result"
    }
   ],
   "source": [
    "#arr5.remove(67)\n",
    "arr5.insert(5,6) #first number is position and 2nd number is new value\n",
    "arr5"
   ]
  },
  {
   "cell_type": "code",
   "execution_count": 80,
   "metadata": {},
   "outputs": [
    {
     "name": "stdout",
     "output_type": "stream",
     "text": [
      "[1, 2, 3, 4, 5, 6, 8, 4, 4, 8]\n",
      "[1, 2, 3, 4, 5, 6, 8, 4, 4, 8]\n"
     ]
    }
   ],
   "source": [
    "a= list(arr5)\n",
    "print(a)\n",
    "#another way\n",
    "b = arr5.tolist()\n",
    "print(b)"
   ]
  },
  {
   "cell_type": "code",
   "execution_count": 81,
   "metadata": {},
   "outputs": [
    {
     "name": "stdout",
     "output_type": "stream",
     "text": [
      "True\n"
     ]
    }
   ],
   "source": [
    "def dup(array):\n",
    "    a = set(array)\n",
    "    if a != array:\n",
    "        return True\n",
    "print(dup([1,2,3,3,4,5,6]))\n",
    "    "
   ]
  },
  {
   "cell_type": "code",
   "execution_count": 82,
   "metadata": {},
   "outputs": [
    {
     "name": "stdout",
     "output_type": "stream",
     "text": [
      "4\n",
      "-1\n",
      "1\n"
     ]
    }
   ],
   "source": [
    "def find_first_duplicate(nums):\n",
    "    num_set = set()\n",
    "    no_duplicate = -1\n",
    "\n",
    "    for i in range(len(nums)):\n",
    "\n",
    "        if nums[i] in num_set:\n",
    "            return nums[i]\n",
    "        else:\n",
    "            num_set.add(nums[i])\n",
    "\n",
    "    return no_duplicate\n",
    "\n",
    "print(find_first_duplicate([1, 2, 3, 4, 4, 5]))\n",
    "print(find_first_duplicate([1, 2, 3, 4]))\n",
    "print(find_first_duplicate([1, 1, 2, 3, 3, 2, 2]))\n"
   ]
  },
  {
   "cell_type": "code",
   "execution_count": null,
   "metadata": {},
   "outputs": [],
   "source": []
  }
 ],
 "metadata": {
  "kernelspec": {
   "display_name": "Python 3",
   "language": "python",
   "name": "python3"
  },
  "language_info": {
   "codemirror_mode": {
    "name": "ipython",
    "version": 3
   },
   "file_extension": ".py",
   "mimetype": "text/x-python",
   "name": "python",
   "nbconvert_exporter": "python",
   "pygments_lexer": "ipython3",
   "version": "3.7.3"
  }
 },
 "nbformat": 4,
 "nbformat_minor": 2
}
