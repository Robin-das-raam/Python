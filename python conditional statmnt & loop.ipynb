{
 "cells": [
  {
   "cell_type": "code",
   "execution_count": null,
   "metadata": {},
   "outputs": [],
   "source": [
    "a  =[]\n",
    "for i in range(1500,2701):\n",
    "    if (i%7 ==0) and (i %5==0):\n",
    "        a.append(str(i))\n",
    "print(\" \".join(a))\n",
    "    "
   ]
  },
  {
   "cell_type": "code",
   "execution_count": null,
   "metadata": {},
   "outputs": [],
   "source": [
    "#celcius to ferhenite & ferhenite to celcius\n",
    "# x = 45\n",
    "# c = ((5*x-160)/9)\n",
    "# print(c)\n",
    "temp = input(\"enter the number  u want to convrt :\")\n",
    "degree = int(temp[:-1])# if input is 34f then it will take 34\n",
    "i_convention = temp[-1]# it will take f\n",
    "#formula is\n",
    "#c = 5*(f-32)/9\n",
    "#f = (9*c)/5 +32\n",
    "if i_convention.upper() =='F':\n",
    "    res = 5 *(degree - 32)/9\n",
    "    o_convention = \"Celcius\"\n",
    "elif i_convention.upper() == 'C':\n",
    "    res =  (9*degree)/5 +32\n",
    "    o_convention  = \"Ferhenheit\"\n",
    "else:\n",
    "    print(\"the ans is in ur butthole u asshole\")\n",
    "    \n",
    "print(\"the result \",o_convention,\"is\",res,\"degree\")\n"
   ]
  },
  {
   "cell_type": "code",
   "execution_count": null,
   "metadata": {},
   "outputs": [],
   "source": [
    "#### guessing a number\n",
    "import random\n",
    "\n",
    "target_value = random.randint(0,10)\n",
    "guess_value = 0\n",
    "\n",
    "while target_value != guess_value:\n",
    "    guess_value =int(input(\"guess the value between 1 to 10 untill u get it right :\"))\n",
    "print (\"well guessed!\")"
   ]
  },
  {
   "cell_type": "code",
   "execution_count": 45,
   "metadata": {},
   "outputs": [
    {
     "name": "stdout",
     "output_type": "stream",
     "text": [
      "b\n"
     ]
    }
   ],
   "source": [
    "a = 'abcs'\n",
    "print(a[1])\n",
    "#print(''.join(reversed(b)))"
   ]
  },
  {
   "cell_type": "code",
   "execution_count": 48,
   "metadata": {},
   "outputs": [
    {
     "name": "stdout",
     "output_type": "stream",
     "text": [
      "number of odd is 5 \n",
      " and number of even is 4\n"
     ]
    }
   ],
   "source": [
    "a = (1,2,3,4,5,6,7,8,9)\n",
    "odd_count =0\n",
    "even_count = 0\n",
    "for i in a:\n",
    "    if i%2 ==0:\n",
    "        even_count +=1\n",
    "    else:\n",
    "        odd_count +=1\n",
    "print(\"number of odd is %i \\n and number of even is %i\"%(odd_count,even_count))\n",
    "    "
   ]
  },
  {
   "cell_type": "code",
   "execution_count": 54,
   "metadata": {},
   "outputs": [
    {
     "name": "stdout",
     "output_type": "stream",
     "text": [
      "word :abcd\n",
      "dcba"
     ]
    }
   ],
   "source": [
    "a = input(\"word :\")\n",
    "for x in range((len(a)-1)\n",
    "                ,-1,-1):\n",
    "               print(a[x],end =\"\")"
   ]
  },
  {
   "cell_type": "code",
   "execution_count": 52,
   "metadata": {},
   "outputs": [
    {
     "name": "stdout",
     "output_type": "stream",
     "text": [
      "5\n",
      "4\n",
      "3\n",
      "2\n",
      "1\n",
      "0\n"
     ]
    }
   ],
   "source": [
    "for i in range(5,-1,-1):\n",
    "    print(i)"
   ]
  },
  {
   "cell_type": "code",
   "execution_count": 58,
   "metadata": {},
   "outputs": [
    {
     "name": "stdout",
     "output_type": "stream",
     "text": [
      "\n",
      "\n",
      "*\n",
      "\n",
      "**\n",
      "\n",
      "***\n",
      "\n",
      "****\n",
      "\n"
     ]
    }
   ],
   "source": [
    "for i in range(5):\n",
    "    for j in range(i):\n",
    "        print('*',end  = \"\")\n",
    "    print('\\n')"
   ]
  },
  {
   "cell_type": "code",
   "execution_count": 60,
   "metadata": {},
   "outputs": [
    {
     "name": "stdout",
     "output_type": "stream",
     "text": [
      "*****\n",
      "\n",
      "****\n",
      "\n",
      "***\n",
      "\n",
      "**\n",
      "\n",
      "*\n",
      "\n"
     ]
    }
   ],
   "source": [
    "for i in range(5,0,-1):\n",
    "    for j in range(i):\n",
    "        print('*',end = \"\")\n",
    "    print('\\n')"
   ]
  },
  {
   "cell_type": "code",
   "execution_count": 61,
   "metadata": {},
   "outputs": [
    {
     "name": "stdout",
     "output_type": "stream",
     "text": [
      "\n",
      "*\n",
      "**\n",
      "***\n",
      "****\n",
      "*****\n",
      "****\n",
      "***\n",
      "**\n",
      "*\n"
     ]
    }
   ],
   "source": [
    "for i in range(5):\n",
    "    for j in range(i):\n",
    "        print(\"*\",end = \"\")\n",
    "    print('')\n",
    "for i in range(5,0,-1):\n",
    "    for j in range(i):\n",
    "        print(\"*\",end = \"\")\n",
    "    print('')\n",
    "    "
   ]
  },
  {
   "cell_type": "code",
   "execution_count": 73,
   "metadata": {},
   "outputs": [
    {
     "name": "stdout",
     "output_type": "stream",
     "text": [
      "\n",
      "1 \n",
      "1 2 \n",
      "1 2 3 \n",
      "1 2 3 4 \n"
     ]
    }
   ],
   "source": [
    "for i in range(5):\n",
    "    for j in range(i):\n",
    "        print(j+1,end = \" \")\n",
    "        \n",
    "    print('')\n"
   ]
  },
  {
   "cell_type": "code",
   "execution_count": 79,
   "metadata": {},
   "outputs": [
    {
     "name": "stdout",
     "output_type": "stream",
     "text": [
      "1\n",
      "23\n",
      "456\n",
      "78910\n",
      "1112131415\n"
     ]
    }
   ],
   "source": [
    "row = 5\n",
    "current_num = 1\n",
    "stop = 2\n",
    "for i in range(row):\n",
    "    for j in range(1,stop):\n",
    "        print(current_num,end = \"\")\n",
    "        current_num+=1\n",
    "    print(\"\")\n",
    "    stop+=1\n",
    "    "
   ]
  },
  {
   "cell_type": "code",
   "execution_count": 85,
   "metadata": {},
   "outputs": [
    {
     "name": "stdout",
     "output_type": "stream",
     "text": [
      "1 \n",
      "3 2 \n",
      "6 5 4 \n",
      "10 9 8 7 \n"
     ]
    }
   ],
   "source": [
    "start = 1\n",
    "stop = 2\n",
    "current_num = stop\n",
    "for i in range(2,6):\n",
    "    for j in range(start,stop):\n",
    "        #print(current_num,end = \"\")\n",
    "        current_num -=1\n",
    "        print(current_num,end = \" \")\n",
    "    print(\"\")\n",
    "    start = stop\n",
    "    stop +=i\n",
    "    current_num= stop\n",
    "    "
   ]
  },
  {
   "cell_type": "code",
   "execution_count": 103,
   "metadata": {},
   "outputs": [
    {
     "name": "stdout",
     "output_type": "stream",
     "text": [
      "    * \n",
      "   * * \n",
      "  * * * \n",
      " * * * * \n",
      "* * * * * \n"
     ]
    }
   ],
   "source": [
    "n = 5\n",
    "\n",
    "for i in range(0,n):\n",
    "    for j in range(0,n-i-1):\n",
    "        print(end =' ')\n",
    "    for j in range(0,i+1):\n",
    "        print(\"* \",end = \"\")\n",
    "    print(\"\")"
   ]
  },
  {
   "cell_type": "code",
   "execution_count": 106,
   "metadata": {},
   "outputs": [
    {
     "name": "stdout",
     "output_type": "stream",
     "text": [
      "         *\n",
      "        ***\n",
      "       *****\n",
      "      *******\n",
      "     *********\n"
     ]
    }
   ],
   "source": [
    "k = 9\n",
    "for i in range(1,10,2):\n",
    "    print(' '*k+i*'*')\n",
    "    k = k-1"
   ]
  },
  {
   "cell_type": "code",
   "execution_count": 115,
   "metadata": {},
   "outputs": [
    {
     "name": "stdout",
     "output_type": "stream",
     "text": [
      "* * * * * * \n",
      " * * * * * \n",
      "  * * * * \n",
      "   * * * \n",
      "    * * \n",
      "     * \n"
     ]
    }
   ],
   "source": [
    "n = 6\n",
    "for i in range(n,0,-1):\n",
    "    for j in range(n-i,0,-1):\n",
    "        print(end =' ')\n",
    "    for j in range(0,i):\n",
    "        print('* ',end = \"\")\n",
    "    print('')\n",
    "    \n",
    "    "
   ]
  },
  {
   "cell_type": "code",
   "execution_count": 116,
   "metadata": {},
   "outputs": [
    {
     "name": "stdout",
     "output_type": "stream",
     "text": [
      "* * * * * * \n",
      "* * * * * \n",
      "* * * * \n",
      "* * * \n",
      "* * \n",
      "* \n"
     ]
    }
   ],
   "source": [
    "n = 6\n",
    "for i in range(n,0,-1):\n",
    "    for j in range(i):\n",
    "        print(\"*\",end = \" \")\n",
    "    print('')"
   ]
  },
  {
   "cell_type": "code",
   "execution_count": 122,
   "metadata": {},
   "outputs": [
    {
     "name": "stdout",
     "output_type": "stream",
     "text": [
      " \n",
      "A  \n",
      "B C  \n",
      "D E F  \n",
      "G H I J  \n",
      "K L M N O  \n",
      "P Q R S T U  \n",
      "V W X Y Z [ \\  \n"
     ]
    }
   ],
   "source": [
    "asciinumber = 65\n",
    "for i in range(0,8):\n",
    "    for j in range(i):\n",
    "        character = chr(asciinumber)\n",
    "        print(character,end =\" \")\n",
    "        asciinumber +=1\n",
    "    print(\" \")"
   ]
  },
  {
   "cell_type": "code",
   "execution_count": 18,
   "metadata": {},
   "outputs": [
    {
     "name": "stdout",
     "output_type": "stream",
     "text": [
      " *** \n",
      "*   *\n",
      "*   *\n",
      "*****\n",
      "*   *\n",
      "*   *\n",
      "*   *\n"
     ]
    }
   ],
   "source": [
    "for row in range(7):\n",
    "    for col in range(5):\n",
    "        if((col == 0 or col ==4)and row!= 0) or ((row==0 or row==3) and (col>0 and col<4)):\n",
    "            print(\"*\",end =\"\")\n",
    "        else:\n",
    "            print(end =\" \")\n",
    "    print(\"\")"
   ]
  },
  {
   "cell_type": "code",
   "execution_count": 54,
   "metadata": {},
   "outputs": [
    {
     "name": "stdout",
     "output_type": "stream",
     "text": [
      "* *** \n",
      "*   * \n",
      "*   * \n",
      "* **  \n",
      "*   * \n",
      "*   * \n",
      "* *** \n"
     ]
    }
   ],
   "source": [
    "for row in range(7):\n",
    "    for col in range(5):\n",
    "        if (col==0) or (col==4 and row!=3) or ((col==2 or col ==3) and (row==0 or row==3 or row==6)):\n",
    "            print(\"*\",end =\"\")\n",
    "        else:\n",
    "            print(end= \" \")\n",
    "    print(\" \")\n",
    "        "
   ]
  },
  {
   "cell_type": "code",
   "execution_count": 64,
   "metadata": {},
   "outputs": [
    {
     "name": "stdout",
     "output_type": "stream",
     "text": [
      "*****\n",
      "*    \n",
      "*    \n",
      "*    \n",
      "*    \n",
      "*****\n"
     ]
    }
   ],
   "source": [
    "for i in range(6):\n",
    "    for j in range(5):\n",
    "        #if (j == 0 and (i != 0 and i != 5)) or (i ==0 or i ==5):\n",
    "        if ((i==0 or i ==5) and j!=0)or ((i !=0 or i!=5) and j==0):\n",
    "            print('*',end =\"\")\n",
    "        else:\n",
    "            print(end = \" \")\n",
    "    print()"
   ]
  },
  {
   "cell_type": "code",
   "execution_count": 70,
   "metadata": {},
   "outputs": [
    {
     "name": "stdout",
     "output_type": "stream",
     "text": [
      "  *  *   \n",
      " *  *  *  \n",
      "*      * \n",
      "*      * \n",
      " *    *  \n",
      "  *  *   \n",
      "   *    \n"
     ]
    }
   ],
   "source": [
    "for row in range(7):\n",
    "    for col in range(7):\n",
    "        if (row==0 and (col==2 or col==4)) or (row==1 and (col==1 or col==3 or col ==5)) or ((row==2 or row==3) and (col==0 or col==6)) or (row == 4 and (col==1 or col==5))or(row==5 and (col==2 or col==4)) or (row ==6 and col==3):\n",
    "            print(\"*\",end =\" \")\n",
    "        else:\n",
    "            print(end =\" \")\n",
    "    print()"
   ]
  },
  {
   "cell_type": "code",
   "execution_count": 74,
   "metadata": {},
   "outputs": [
    {
     "name": "stdout",
     "output_type": "stream",
     "text": [
      "1452 <class 'int'>\n",
      "11.23 <class 'float'>\n",
      "(1+2j) <class 'complex'>\n",
      "True <class 'bool'>\n",
      "w3resource <class 'str'>\n",
      "(0, -1) <class 'tuple'>\n",
      "[5, 12] <class 'list'>\n",
      "{'class': 'V', 'section': 'A'} <class 'dict'>\n",
      "\n"
     ]
    }
   ],
   "source": [
    "datalist = [1452, 11.23, 1+2j, True, 'w3resource', (0, -1), [5, 12], {\"class\":'V', \"section\":'A'}]\n",
    "for i in datalist:\n",
    "    print(i,type(i))\n",
    "print()"
   ]
  },
  {
   "cell_type": "code",
   "execution_count": 14,
   "metadata": {},
   "outputs": [
    {
     "name": "stdout",
     "output_type": "stream",
     "text": [
      "1\n",
      "1\n",
      "2\n",
      "3\n",
      "5\n",
      "8\n",
      "13\n"
     ]
    }
   ],
   "source": [
    "x,y = 0,1\n",
    "while y<15:\n",
    "    print(y)\n",
    "    x,y = y,x+y\n"
   ]
  },
  {
   "cell_type": "code",
   "execution_count": 17,
   "metadata": {},
   "outputs": [
    {
     "name": "stdout",
     "output_type": "stream",
     "text": [
      "1\n",
      "2\n",
      "fizz\n",
      "4\n",
      "buzz\n",
      "fizz\n",
      "7\n",
      "8\n",
      "fizz\n",
      "buzz\n",
      "11\n",
      "fizz\n",
      "13\n",
      "14\n",
      "fizz\n",
      "16\n",
      "17\n",
      "fizz\n",
      "19\n",
      "19\n"
     ]
    }
   ],
   "source": [
    "for i in range(1,20):\n",
    "    if (i%3==0):\n",
    "        print(\"fizz\")\n",
    "    elif (i%5==0):\n",
    "        print(\"buzz\")\n",
    "    else:\n",
    "        print(i)\n",
    "print(i)\n",
    "    "
   ]
  },
  {
   "cell_type": "code",
   "execution_count": 29,
   "metadata": {},
   "outputs": [
    {
     "name": "stdout",
     "output_type": "stream",
     "text": [
      "[[0, 0, 0], [0, 0, 0], [0, 0, 0]]\n",
      "[[0, 0, 0], [0, 1, 2], [0, 2, 4]]\n"
     ]
    }
   ],
   "source": [
    "row,column = 3,3\n",
    "multi_list = [[0 for col in range(column)] for rows in range(row)]\n",
    "print(multi_list)\n",
    "\n",
    "for i in range(row):\n",
    "    for j in range(column):\n",
    "        multi_list[i][j] = i*j\n",
    "print(multi_list)\n"
   ]
  },
  {
   "cell_type": "code",
   "execution_count": 11,
   "metadata": {},
   "outputs": [
    {
     "name": "stdout",
     "output_type": "stream",
     "text": [
      "1111,1010\n"
     ]
    }
   ],
   "source": [
    "items =[]\n",
    "a = ('1111,1110,1010,1000')\n",
    "#print(a.split(\",\"))\n",
    "num = [x for x in a.split(\",\")]\n",
    "\n",
    "for p in num:\n",
    "    x = int(p,2)\n",
    "    if not x%5:\n",
    "        items.append(p)\n",
    "print(\",\".join(items))\n"
   ]
  },
  {
   "cell_type": "code",
   "execution_count": 19,
   "metadata": {},
   "outputs": [
    {
     "name": "stdout",
     "output_type": "stream",
     "text": [
      "digit is 2 and letters is 6\n"
     ]
    }
   ],
   "source": [
    "data = \"python3.7\"\n",
    "digit = 0\n",
    "letters = 0\n",
    "for i in data:\n",
    "    if i.isalpha():\n",
    "        letters +=1\n",
    "    elif i.isdigit():\n",
    "        digit+=1\n",
    "    else:\n",
    "        pass\n",
    "print(\"digit is %d and letters is %d\"%(digit,letters))"
   ]
  },
  {
   "cell_type": "code",
   "execution_count": 32,
   "metadata": {},
   "outputs": [
    {
     "name": "stdout",
     "output_type": "stream",
     "text": [
      "['d', 'a', 'a', 'a']\n",
      "True\n"
     ]
    }
   ],
   "source": [
    "import re\n",
    "txt = \"let me help u to drive away from the situation\"\n",
    "x = re.findall(\"[a-d]\",txt)\n",
    "print(x)\n",
    "y = re.findall(\"fr..\",txt)\n",
    "z = re.findall(\"^let\",txt)\n"
   ]
  },
  {
   "cell_type": "code",
   "execution_count": 26,
   "metadata": {},
   "outputs": [
    {
     "data": {
      "text/plain": [
       "['3', '7']"
      ]
     },
     "execution_count": 26,
     "metadata": {},
     "output_type": "execute_result"
    }
   ],
   "source": [
    "a = \"python 3.7\"\n",
    "b = re.findall(\"\\d\",a)\n",
    "b"
   ]
  },
  {
   "cell_type": "code",
   "execution_count": 39,
   "metadata": {},
   "outputs": [
    {
     "name": "stdout",
     "output_type": "stream",
     "text": [
      "enter ur password :Robin1#\n",
      "password is valid\n"
     ]
    }
   ],
   "source": [
    "import re\n",
    "p = input(\"enter ur password :\")\n",
    "x = True\n",
    "while x:\n",
    "    if len(p)<6 or len(p)>12:\n",
    "        break\n",
    "    elif  not re.search(\"[a-z]\",p):\n",
    "        break\n",
    "    elif not re.search(\"[A-Z]\",p):\n",
    "        break\n",
    "    elif not re.search(\"[0-9]\",p):\n",
    "        break\n",
    "    elif not re.search(\"[$#@]\",p):\n",
    "        break\n",
    "    elif re.search(\"\\s\",p):\n",
    "        break\n",
    "    else:\n",
    "        print(\"password is valid\")\n",
    "        x =False\n",
    "        break\n",
    "if x:\n",
    "    print(\"invalid password\")\n",
    "    "
   ]
  },
  {
   "cell_type": "code",
   "execution_count": 44,
   "metadata": {},
   "outputs": [
    {
     "name": "stdout",
     "output_type": "stream",
     "text": [
      "100,102,104,106,108,110,112,114,116,118,120,"
     ]
    }
   ],
   "source": [
    "#even = []\n",
    "for i in range(100,121):\n",
    "    if i%2 == 0:\n",
    "        print(i,end = ',')\n",
    "        \n",
    "#print(even,end = \",\")"
   ]
  },
  {
   "cell_type": "code",
   "execution_count": 56,
   "metadata": {},
   "outputs": [
    {
     "name": "stdout",
     "output_type": "stream",
     "text": [
      "200,202,204,206,208,220\n"
     ]
    }
   ],
   "source": [
    "even = []\n",
    "for i in range(100,221):\n",
    "    s =str(i)\n",
    "    if (int(s[0])%2==0) and (int(s[1])%2==0) and (int(s[2])%2==0):\n",
    "        even.append(s)\n",
    "print(\",\".join(even))"
   ]
  },
  {
   "cell_type": "code",
   "execution_count": 57,
   "metadata": {},
   "outputs": [
    {
     "name": "stdout",
     "output_type": "stream",
     "text": [
      "* * * * \n",
      "*    \n",
      "*    \n",
      "* * * * \n",
      "*    \n",
      "*    \n",
      "* * * * \n"
     ]
    }
   ],
   "source": [
    "for row in range(7):\n",
    "    for col in range(4):\n",
    "        if  (row ==0 or row==3 or row==6) or (col==0 and (row!=0 or row!=3 or row!=6)):\n",
    "            print(\"*\",end = \" \")\n",
    "        else:\n",
    "            print(end = \" \")\n",
    "    print()"
   ]
  },
  {
   "cell_type": "code",
   "execution_count": 7,
   "metadata": {},
   "outputs": [
    {
     "name": "stdout",
     "output_type": "stream",
     "text": [
      "dog age in human years :3\n",
      "25\n"
     ]
    }
   ],
   "source": [
    "d_age = int(input(\"dog age in human years :\"))\n",
    "if d_age<0:\n",
    "    print(\"age must be positve\")\n",
    "    exit()\n",
    "elif d_age<3:\n",
    "    d_age_in_d_yr = 21\n",
    "    print(d_age_in_d_yr)\n",
    "else:\n",
    "    d_age_in_d_yr = 21 + (d_age - 2)*4\n",
    "    print(d_age_in_d_yr)"
   ]
  },
  {
   "cell_type": "code",
   "execution_count": 8,
   "metadata": {},
   "outputs": [
    {
     "name": "stdout",
     "output_type": "stream",
     "text": [
      "input the alphabet :U\n",
      "U is vowel\n"
     ]
    }
   ],
   "source": [
    "alpha = input(\"input the alphabet :\")\n",
    "if alpha in(\"a\",\"e\",\"i\",\"o\",\"u\") or (\"A\",\"E\",\"I\",\"O\",\"U\"):\n",
    "    print(\"%s is vowel\"%alpha)\n",
    "else:\n",
    "    print(\"%s is consonant\"%alpha)"
   ]
  },
  {
   "cell_type": "code",
   "execution_count": 12,
   "metadata": {},
   "outputs": [
    {
     "name": "stdout",
     "output_type": "stream",
     "text": [
      "input the month :February\n",
      "February has 28 days \n"
     ]
    }
   ],
   "source": [
    "l = input(\"input the month :\")\n",
    "li = ['January', 'February', 'March',' April', 'May', 'June', 'July', 'August',\n",
    "                 'September', 'October', 'November', 'December' ]\n",
    "\n",
    "for i in range(len(li)):\n",
    "    if l== li[i]:\n",
    "        if i in(0,2,4,6,7,9,11):\n",
    "            print(\"%s has 31 days \"%l)\n",
    "        elif i ==1:\n",
    "            print(\"%s has 28 days \"%l)\n",
    "        else:\n",
    "            print(\"%s has 30 days \"%l)\n",
    "               "
   ]
  },
  {
   "cell_type": "code",
   "execution_count": 17,
   "metadata": {},
   "outputs": [
    {
     "name": "stdout",
     "output_type": "stream",
     "text": [
      "input is :ass\n",
      " ass is string\n"
     ]
    }
   ],
   "source": [
    "l = input(\"input is :\")\n",
    "if not l.isdigit():\n",
    "    print(\" %s is string\"%l)\n",
    "else:\n",
    "    print(\"%s integer\"%l)\n",
    "    "
   ]
  },
  {
   "cell_type": "code",
   "execution_count": 20,
   "metadata": {},
   "outputs": [
    {
     "name": "stdout",
     "output_type": "stream",
     "text": [
      "1\n",
      "22\n",
      "333\n",
      "4444\n",
      "55555\n",
      "666666\n",
      "7777777\n",
      "88888888\n",
      "999999999\n"
     ]
    }
   ],
   "source": [
    "for i in range(1,10):\n",
    "    print(str(i)*i)"
   ]
  },
  {
   "cell_type": "code",
   "execution_count": 26,
   "metadata": {},
   "outputs": [
    {
     "name": "stdout",
     "output_type": "stream",
     "text": [
      "6 * 1 = 6\n",
      "6 * 2 = 12\n",
      "6 * 3 = 18\n",
      "6 * 4 = 24\n",
      "6 * 5 = 30\n",
      "6 * 6 = 36\n",
      "6 * 7 = 42\n",
      "6 * 8 = 48\n",
      "6 * 9 = 54\n",
      "6 * 10 = 60\n"
     ]
    }
   ],
   "source": [
    "i =6\n",
    "for j in range(1,11):\n",
    "    print(i,\"*\",j, \"=\",i*j)"
   ]
  },
  {
   "cell_type": "code",
   "execution_count": 34,
   "metadata": {},
   "outputs": [
    {
     "name": "stdout",
     "output_type": "stream",
     "text": [
      "10 * 1 = 10\n",
      "10 * 2 = 20\n",
      "10 * 3 = 30\n",
      "10 * 4 = 40\n",
      "10 * 5 = 50\n",
      "10 * 6 = 60\n",
      "10 * 7 = 70\n",
      "10 * 8 = 80\n",
      "10 * 9 = 90\n",
      "10 * 10 = 100\n",
      "\n"
     ]
    }
   ],
   "source": [
    "def mul_table(x):\n",
    "    #x = int(input(\"input the number :\"))\n",
    "    for i in range(1,11):\n",
    "        print(x,\"*\",i,\"=\",x*i)\n",
    "    return \"\"\n",
    "print(mul_table(10))"
   ]
  },
  {
   "cell_type": "code",
   "execution_count": null,
   "metadata": {},
   "outputs": [],
   "source": []
  }
 ],
 "metadata": {
  "kernelspec": {
   "display_name": "Python 3",
   "language": "python",
   "name": "python3"
  },
  "language_info": {
   "codemirror_mode": {
    "name": "ipython",
    "version": 3
   },
   "file_extension": ".py",
   "mimetype": "text/x-python",
   "name": "python",
   "nbconvert_exporter": "python",
   "pygments_lexer": "ipython3",
   "version": "3.7.3"
  }
 },
 "nbformat": 4,
 "nbformat_minor": 2
}
