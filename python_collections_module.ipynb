{
 "cells": [
  {
   "cell_type": "code",
   "execution_count": 5,
   "metadata": {},
   "outputs": [
    {
     "name": "stdout",
     "output_type": "stream",
     "text": [
      "['c', 'c', 'c', 'd', 'd', 'd', 'd']\n"
     ]
    }
   ],
   "source": [
    "from collections import Counter\n",
    "a = Counter(c= 3,d= 4)\n",
    "print(list(a.elements()))"
   ]
  },
  {
   "cell_type": "code",
   "execution_count": 11,
   "metadata": {},
   "outputs": [
    {
     "name": "stdout",
     "output_type": "stream",
     "text": [
      "[(' ', 6), ('a', 3), ('e', 3), ('o', 5), ('s', 3)]\n"
     ]
    }
   ],
   "source": [
    "a = 'please god save this world from corona'\n",
    "b = Counter(a)\n",
    "print(sorted(list(b.most_common(5))))"
   ]
  },
  {
   "cell_type": "code",
   "execution_count": 20,
   "metadata": {},
   "outputs": [
    {
     "name": "stdout",
     "output_type": "stream",
     "text": [
      "('ass', 'jackass')\n"
     ]
    }
   ],
   "source": [
    "import re\n",
    "a = ['asshole arse','ass ass','ass jackass']\n",
    "\n",
    "for i in a:\n",
    "    z = re.match(\"(a\\w+)\\W(j\\w+)\",i)\n",
    "    if z:\n",
    "        print((z.groups()))\n"
   ]
  },
  {
   "cell_type": "code",
   "execution_count": 6,
   "metadata": {},
   "outputs": [
    {
     "name": "stdout",
     "output_type": "stream",
     "text": [
      "[('beg', 1), ('dont', 2), ('for', 1), ('if', 2), ('it', 2), ('someone', 1), ('somthing', 1), ('to', 2), ('u', 4), ('want', 1)]\n"
     ]
    }
   ],
   "source": [
    "from collections import Counter \n",
    "import re\n",
    "txt = \"dont beg for somthing to someone.if u want it then u have to earn it.there is no shortcut.if u dont run fast  u will get a broken anda\"\n",
    "words = re.findall('\\w+',txt)\n",
    "print(sorted(Counter(words).most_common(10)))"
   ]
  },
  {
   "cell_type": "code",
   "execution_count": 10,
   "metadata": {},
   "outputs": [
    {
     "name": "stdout",
     "output_type": "stream",
     "text": [
      "enter the number :4\n",
      "Input the words :\n",
      "ass\n",
      "tit\n",
      "pussy\n",
      "tit\n",
      "4\n",
      "1,2,1,"
     ]
    }
   ],
   "source": [
    "from collections import Counter,OrderedDict\n",
    "class orderedCounter(Counter,OrderedDict):\n",
    "    pass\n",
    "word = []\n",
    "n = int(input(\"enter the number :\"))\n",
    "print(\"Input the words :\")\n",
    "\n",
    "for i in range(n):\n",
    "    word.append(input().strip())\n",
    "word_ctr = orderedCounter(word)\n",
    "print(len(word))\n",
    "\n",
    "for words in word_ctr:\n",
    "    print(word_ctr[words],end = ',')"
   ]
  },
  {
   "cell_type": "code",
   "execution_count": 15,
   "metadata": {},
   "outputs": [
    {
     "name": "stdout",
     "output_type": "stream",
     "text": [
      "number of subjects :3\n",
      "Input sub name and marks : ass 38\n",
      "Input sub name and marks : tit 34\n",
      "Input sub name and marks : tit 35\n",
      "ass  38\n",
      "tit  69\n"
     ]
    }
   ],
   "source": [
    "import collections\n",
    "import re\n",
    "\n",
    "n = int(input(\"number of subjects :\"))\n",
    "item_order= collections.OrderedDict()\n",
    "\n",
    "for i in range(n):\n",
    "    sub_name_list = re.split(r'(\\d+)$',input('Input sub name and marks : ').strip())\n",
    "    sub_name = sub_name_list[0]\n",
    "    marks = int(sub_name_list[1])\n",
    "    \n",
    "    if sub_name not in item_order:\n",
    "        item_order[sub_name] = marks\n",
    "    else:\n",
    "        item_order[sub_name] = item_order[sub_name] + marks\n",
    "for i in item_order:\n",
    "    print(i,str(item_order[i]))"
   ]
  },
  {
   "cell_type": "code",
   "execution_count": 24,
   "metadata": {},
   "outputs": [
    {
     "name": "stdout",
     "output_type": "stream",
     "text": [
      "deque(['red', 'black', 'white'])\n",
      "\n",
      "add from left :\n",
      "deque(['yellow', 'red', 'black', 'white'])\n",
      "\n",
      "add from right\n",
      "deque(['yellow', 'red', 'black', 'white', 'green'])\n",
      "\n",
      "remove from left\n",
      "deque(['red', 'black', 'white', 'green'])\n",
      "\n",
      "remove from right\n",
      "deque(['red', 'black', 'white'])\n",
      "\n",
      "reverse the deque\n",
      "deque(['white', 'black', 'red'])\n"
     ]
    }
   ],
   "source": [
    "import collections\n",
    "deque_color = collections.deque(['red','black','white'])\n",
    "print(deque_color)\n",
    "\n",
    "print(\"\\nadd from left :\" )\n",
    "deque_color.appendleft(\"yellow\")\n",
    "print(deque_color)\n",
    "print(\"\\nadd from right\")\n",
    "deque_color.append(\"green\")\n",
    "print(deque_color)\n",
    "print(\"\\nremove from left\")\n",
    "deque_color.popleft()\n",
    "print(deque_color)\n",
    "print(\"\\nremove from right\")\n",
    "deque_color.pop()\n",
    "print(deque_color)\n",
    "print(\"\\nreverse the deque\")\n",
    "deque_color.reverse()\n",
    "print(deque_color)"
   ]
  },
  {
   "cell_type": "code",
   "execution_count": 26,
   "metadata": {},
   "outputs": [
    {
     "name": "stdout",
     "output_type": "stream",
     "text": [
      "deque([2, 4, 6, 8])\n",
      "deque([2, 4, 6, 8, 9, 1, 3, 5])\n"
     ]
    }
   ],
   "source": [
    "import collections\n",
    "even_num = (2,4,6,8)\n",
    "even_deque = collections.deque(even_num)\n",
    "print(even_deque)\n",
    "new_num = (9,1,3,5)\n",
    "even_deque.extend(new_num)\n",
    "print(even_deque)"
   ]
  },
  {
   "cell_type": "code",
   "execution_count": 32,
   "metadata": {},
   "outputs": [
    {
     "name": "stdout",
     "output_type": "stream",
     "text": [
      "deque([1, 2, 3])\n",
      "deleting all item :\n",
      "length of dque 0\n"
     ]
    }
   ],
   "source": [
    "import collections\n",
    "dq = collections.deque([1,2,3])\n",
    "print(dq)\n",
    "print(\"deleting all item :\")\n",
    "dq.clear()\n",
    "print(\"length of dque %d\"%(len(dq)))"
   ]
  },
  {
   "cell_type": "code",
   "execution_count": 34,
   "metadata": {},
   "outputs": [
    {
     "name": "stdout",
     "output_type": "stream",
     "text": [
      "deque([1, 2, 3, 4, 5])\n",
      "deque([1, 2, 3, 4, 5])\n",
      "dq1 id 1734986064776\n",
      "dq2 id 1734986066232\n"
     ]
    }
   ],
   "source": [
    "a = (1,2,3,4,5)\n",
    "dq1 = collections.deque(a)\n",
    "print(dq1)\n",
    "dq2 = dq1.copy()\n",
    "print(dq2)\n",
    "print(\"dq1 id\",id(dq1))\n",
    "print(\"dq2 id\",id(dq2))"
   ]
  },
  {
   "cell_type": "code",
   "execution_count": 52,
   "metadata": {},
   "outputs": [
    {
     "name": "stdout",
     "output_type": "stream",
     "text": [
      "deque([1, 1, 2, 3, 4, 5, 6, 2, 4, 6, 7, 8, 4, 3, 2, 1])\n",
      "3 2\n",
      "{1: 3, 2: 3, 3: 2, 4: 3, 5: 1, 6: 2, 7: 1, 8: 1}\n",
      "before rotating the deque : deque([1, 1, 2, 3, 4, 5, 6, 2, 4, 6, 7, 8, 4, 3, 2, 1])\n",
      "after rotating\n",
      "deque([1, 1, 1, 2, 3, 4, 5, 6, 2, 4, 6, 7, 8, 4, 3, 2])\n"
     ]
    }
   ],
   "source": [
    "import collections\n",
    "c = [1,1,2,3,4,5,6,2,4,6,7,8,4,3,2,1]\n",
    "x = collections.deque(c)\n",
    "print(x)\n",
    "print(x.count(1),x.count(3))\n",
    "print(dict(Counter(x)))\n",
    "print(\"before rotating the deque :\",x)\n",
    "print(\"after rotating\")\n",
    "x.rotate()\n",
    "print(x)"
   ]
  },
  {
   "cell_type": "code",
   "execution_count": 55,
   "metadata": {},
   "outputs": [
    {
     "name": "stdout",
     "output_type": "stream",
     "text": [
      "Original list:\n",
      "['PHP', 'PHP', 'Python', 'PHP', 'Python', 'JS', 'Python', 'Python', 'PHP', 'Python']\n",
      "\n",
      "Most common element of the said list:\n",
      "Python\n",
      "('Python', 5)\n",
      "[('Python', 5)]\n"
     ]
    }
   ],
   "source": [
    "from collections import Counter\n",
    "language = ['PHP', 'PHP', 'Python', 'PHP', 'Python', 'JS', 'Python', 'Python','PHP', 'Python']\n",
    "print(\"Original list:\")\n",
    "print(language)\n",
    "cnt = Counter(language)\n",
    "print(\"\\nMost common element of the said list:\")\n",
    "print(cnt.most_common(1)[0][0])\n",
    "print(cnt.most_common(1)[0])\n",
    "print(cnt.most_common(1))\n",
    "\n"
   ]
  },
  {
   "cell_type": "markdown",
   "metadata": {},
   "source": [
    "## Heapq algorithm\n"
   ]
  },
  {
   "cell_type": "code",
   "execution_count": 57,
   "metadata": {},
   "outputs": [
    {
     "name": "stdout",
     "output_type": "stream",
     "text": [
      "original list : [1, 2, 3, 4, 5, 6, 7, 8, 9]\n",
      "[9, 8, 7]\n"
     ]
    }
   ],
   "source": [
    "import heapq as hq\n",
    "l = [1,2,3,4,5,6,7,8,9]\n",
    "print(\"original list :\",l)\n",
    "print(hq.nlargest(3,l))\n"
   ]
  },
  {
   "cell_type": "code",
   "execution_count": 63,
   "metadata": {},
   "outputs": [
    {
     "name": "stdout",
     "output_type": "stream",
     "text": [
      " heapfy list [1, 4, 2, 5, 7, 3]\n"
     ]
    }
   ],
   "source": [
    "import heapq\n",
    "li = [3,4,2,5,7,1]\n",
    "heapq.heapify(li)\n",
    "print(\" heapfy list \",end = \"\")\n",
    "print(list(li))"
   ]
  },
  {
   "cell_type": "code",
   "execution_count": 72,
   "metadata": {},
   "outputs": [
    {
     "name": "stdout",
     "output_type": "stream",
     "text": [
      "[1, 2, 5, 3, 4, 9, 8, 7]\n"
     ]
    }
   ],
   "source": [
    "l = [9,4,5,7,3,2,8]\n",
    "heapq.heapify(l)\n",
    "heapq.heappush(l,1)\n",
    "print(l)\n"
   ]
  },
  {
   "cell_type": "code",
   "execution_count": 75,
   "metadata": {},
   "outputs": [
    {
     "name": "stdout",
     "output_type": "stream",
     "text": [
      "[1, 2, 4, 5]\n"
     ]
    }
   ],
   "source": [
    "import heapq as hq\n",
    "li = [9,4,5,6,2,1]\n",
    "print(hq.nsmallest(4,li))"
   ]
  },
  {
   "cell_type": "code",
   "execution_count": 79,
   "metadata": {},
   "outputs": [
    {
     "name": "stdout",
     "output_type": "stream",
     "text": [
      "[4, 4, 9, 4, 2, 1, 5, 6, 4, 10]\n"
     ]
    }
   ],
   "source": [
    "hq.heappush(li,10)\n",
    "print(list(li))"
   ]
  },
  {
   "cell_type": "code",
   "execution_count": 83,
   "metadata": {},
   "outputs": [
    {
     "name": "stdout",
     "output_type": "stream",
     "text": [
      "[2, 4, 9, 4, 10, 1, 5, 6]\n"
     ]
    }
   ],
   "source": [
    "hq.heappop(li)\n",
    "print(li)"
   ]
  },
  {
   "cell_type": "code",
   "execution_count": 85,
   "metadata": {},
   "outputs": [
    {
     "name": "stdout",
     "output_type": "stream",
     "text": [
      "[2, 3, 4, 5, 7, 8, 9]\n"
     ]
    }
   ],
   "source": [
    "import heapq as hq\n",
    "\n",
    "def heapsort(li):\n",
    "    h = []\n",
    "    for value in li:\n",
    "        hq.heappush(h,value)\n",
    "    return [hq.heappop(h) for i in range(len(h))]\n",
    "print(heapsort([9,4,5,7,3,2,8]))"
   ]
  },
  {
   "cell_type": "code",
   "execution_count": 87,
   "metadata": {},
   "outputs": [
    {
     "name": "stdout",
     "output_type": "stream",
     "text": [
      "[3, 4, 6, 7, 11, 12, 33, 45]\n",
      "another way\n",
      "[3, 4, 6, 7, 11, 12, 33, 45]\n"
     ]
    }
   ],
   "source": [
    "import heapq as hq\n",
    "num_list = [12,3,4,11,33,45,6,7]\n",
    "hq.heapify(num_list)\n",
    "print(sorted(list(num_list)))\n",
    "print(\"another way\")\n",
    "res = [hq.heappop(num_list) for i in range(len(num_list))]\n",
    "print(res)"
   ]
  },
  {
   "cell_type": "code",
   "execution_count": 88,
   "metadata": {},
   "outputs": [
    {
     "name": "stdout",
     "output_type": "stream",
     "text": [
      "45\n"
     ]
    }
   ],
   "source": [
    "li = [45,3,34,55,66,77,32]\n",
    "k = 4\n",
    "hq.heapify(li)\n",
    "s = [hq.heappop(li) for i in range(len(li))]\n",
    "q = sorted(list(s))\n",
    "print(q[-4])"
   ]
  },
  {
   "cell_type": "code",
   "execution_count": 89,
   "metadata": {},
   "outputs": [
    {
     "name": "stdout",
     "output_type": "stream",
     "text": [
      "Third largest element: 14\n"
     ]
    }
   ],
   "source": [
    "import heapq\n",
    "\n",
    "class Solution(object):\n",
    "    def find_Kth_Largest(self, nums, k):\n",
    "        \"\"\"\n",
    "        :type nums: List[int]\n",
    "        :type of k: int\n",
    "        :return value type: int\n",
    "        \"\"\"\n",
    "        h = []\n",
    "        for e in nums:\n",
    "            heapq.heappush(h,e)\n",
    "        for i in range(k):\n",
    "            e = heapq.heappop(h)\n",
    "            if i == k - 1:\n",
    "                return e\n",
    "\n",
    "arr_nums = [12, 14, 9, 50, 61, 41]\n",
    "s = Solution()\n",
    "result = s.find_Kth_Largest(arr_nums, 3)\n",
    "print(\"Third largest element:\",result)\n",
    "#result = s.find_Kth_Largest(arr_nums, 2)\n",
    "#print(\"\\nSecond largest element:\",result)\n",
    "#result = s.find_Kth_Largest(arr_nums, 5)\n",
    "#print(\"\\nFifth largest element:\",result)\n"
   ]
  },
  {
   "cell_type": "code",
   "execution_count": 94,
   "metadata": {},
   "outputs": [
    {
     "name": "stdout",
     "output_type": "stream",
     "text": [
      "[9, 14, 12, 50, 61, 41]\n",
      "14\n"
     ]
    }
   ],
   "source": [
    "arr_nums = [12, 14, 9, 50, 61, 41]\n",
    "h = []\n",
    "for e in arr_nums:\n",
    "    heapq.heappush(h,e)\n",
    "print(h)\n",
    "for i in range(3):\n",
    "    e = heapq.heappop(h)\n",
    "    i ==3 - 1\n",
    "print(e)"
   ]
  },
  {
   "cell_type": "code",
   "execution_count": 10,
   "metadata": {},
   "outputs": [
    {
     "name": "stdout",
     "output_type": "stream",
     "text": [
      "original dataset\n",
      " [{'items': 'tshirt', 'price': 550}, {'items': 'jeans', 'price': 1550}, {'items': 'watch', 'price': 3000}, {'items': 'shoe', 'price': 2000}, {'items': 'sun_glass', 'price': 400}]\n",
      "\n",
      "cheap\n",
      "\n",
      "[{'items': 'sun_glass', 'price': 400},\n",
      " {'items': 'tshirt', 'price': 550},\n",
      " {'items': 'jeans', 'price': 1550}]\n",
      "\n",
      "expensive\n",
      "\n",
      "[{'items': 'watch', 'price': 3000},\n",
      " {'items': 'shoe', 'price': 2000},\n",
      " {'items': 'jeans', 'price': 1550}]\n"
     ]
    }
   ],
   "source": [
    "import heapq\n",
    "from pprint import pprint\n",
    "item = [{'items':'tshirt','price':550},\n",
    "       {'items':'jeans','price':1550},\n",
    "       {'items':'watch','price':3000},\n",
    "       {'items':'shoe','price':2000},\n",
    "       {'items':'sun_glass','price':400}]\n",
    "cheap = heapq.nsmallest(3,item,key= lambda s:s['price'])\n",
    "expensive = heapq.nlargest(3,item,key = lambda s : s['price'])\n",
    "print(\"original dataset\\n\",item)\n",
    "print(\"\\ncheap\\n\")\n",
    "pprint(cheap)\n",
    "print(\"\\nexpensive\\n\")\n",
    "pprint(expensive)"
   ]
  },
  {
   "cell_type": "code",
   "execution_count": 13,
   "metadata": {},
   "outputs": [
    {
     "name": "stdout",
     "output_type": "stream",
     "text": [
      "[2, 22, 23, 34, 42, 45, 55, 55, 56, 56, 65, 66, 78, 87, 88, 89, 99, 434]\n"
     ]
    }
   ],
   "source": [
    "import heapq\n",
    "a = [23,42,45,22,56,87]\n",
    "b = [55,2,434,56,66,78]\n",
    "c= [99,89,65,88,55,34]\n",
    "a = sorted(a)\n",
    "b= sorted(b)\n",
    "c = sorted(c)\n",
    "d = heapq.merge(a,b,c)\n",
    "print(list(d))"
   ]
  },
  {
   "cell_type": "code",
   "execution_count": 24,
   "metadata": {},
   "outputs": [
    {
     "name": "stdout",
     "output_type": "stream",
     "text": [
      "[[7 4 8 4]\n",
      " [3 2 8 8]\n",
      " [4 2 1 6]]\n",
      "\n",
      " [(7, 0, 0)]\n"
     ]
    }
   ],
   "source": [
    "import numpy as np \n",
    "a = np.random.randint(1,10,size = (3,4))\n",
    "n = len(a[0])\n",
    "q = [(a[0][0], 0, 0)]\n",
    "print(a)\n",
    "print(\"\\n\",q)"
   ]
  },
  {
   "cell_type": "code",
   "execution_count": 30,
   "metadata": {},
   "outputs": [
    {
     "name": "stdout",
     "output_type": "stream",
     "text": [
      "Counter({'a': 3, 'b': 2, 'c': 2, 'ab': 1, 'bc': 1})\n",
      "[(-3, 'a'), (-2, 'b'), (-2, 'c'), (-1, 'ab'), (-1, 'bc')]\n",
      "['a', 'b', 'c']\n"
     ]
    }
   ],
   "source": [
    "from collections import Counter\n",
    "import heapq\n",
    "class Solution:\n",
    "    def most_frequent(self,words,k):\n",
    "        ctr = Counter(words)\n",
    "        print(ctr)\n",
    "        heap = [(-ctr[word],word) for word in ctr]\n",
    "        heapq.heapify(heap)\n",
    "        print(heap)\n",
    "        return [heapq.heappop(heap)[-1] for _ in range(k)]\n",
    "    \n",
    "if __name__ == '__main__':\n",
    "    \n",
    "    words = ['a','b','c','ab','a','bc','a','b','c']\n",
    "    k = 3\n",
    "    s = Solution()\n",
    "    print(s.most_frequent(words,k))\n"
   ]
  },
  {
   "cell_type": "code",
   "execution_count": 46,
   "metadata": {},
   "outputs": [
    {
     "name": "stdout",
     "output_type": "stream",
     "text": [
      "[(-1, 'a'), (-2, 'b'), (-1, 'c')]\n",
      "3\n",
      "['b', 'a']\n",
      "['b', 'a', 'b', 'c']\n",
      "babc\n"
     ]
    }
   ],
   "source": [
    "from collections import Counter \n",
    "import heapq\n",
    "\n",
    "def rearranging_str(str1):\n",
    "    ctr = Counter(str1)\n",
    "    heap = [(-value,key) for key,value in ctr.items()]\n",
    "    print(heap)\n",
    "    heapq.heapify(heap)\n",
    "    \n",
    "    print(len(heap))\n",
    "    \n",
    "    ans = []\n",
    "    while len(heap) >=2:\n",
    "        x1,y1 = heapq.heappop(heap)\n",
    "        x2,y2 = heapq.heappop(heap)\n",
    "        \n",
    "        ans.extend([y1,y2])\n",
    "        print(ans)\n",
    "        if x1+1:heapq.heappush(heap,(x1+1,y1))\n",
    "        if x2+1:heapq.heappush(heap,(x2+1,y2))\n",
    "    return \"\".join(ans)+(heap[0][1] if heap else\"\")\n",
    "print(rearranging_str('abbc'))"
   ]
  },
  {
   "cell_type": "code",
   "execution_count": 59,
   "metadata": {},
   "outputs": [
    {
     "name": "stdout",
     "output_type": "stream",
     "text": [
      "abaca\n",
      "none\n"
     ]
    }
   ],
   "source": [
    "import heapq\n",
    "from collections import Counter\n",
    "\n",
    "def word_rearng(s):\n",
    "    ctr = Counter(s)\n",
    "    heap = [(-value,key) for key,value in ctr.items()]\n",
    "    heapq.heapify(heap)\n",
    "    if(-heap[0][0])*2 > len(s) + 1:\n",
    "        return \"none\"\n",
    "        \n",
    "    ans = []\n",
    "    while len(heap) >=2 :\n",
    "        x1,y1 = heapq.heappop(heap)\n",
    "        x2,y2 = heapq.heappop(heap)\n",
    "        ans.extend([y1,y2])\n",
    "        if x1 + 1:heapq.heappush(heap,(x1+1,y1))\n",
    "        if x2+1:heapq.heappush(heap,(x2+1,y2))\n",
    "    return \"\".join(ans) + (heap[0][1] if heap else \"\")\n",
    "print(word_rearng(\"aaabc\"))\n",
    "print(word_rearng(\"aaab\"))"
   ]
  },
  {
   "cell_type": "code",
   "execution_count": 62,
   "metadata": {},
   "outputs": [
    {
     "name": "stdout",
     "output_type": "stream",
     "text": [
      "[] [1]\n",
      "None\n"
     ]
    }
   ],
   "source": [
    "import heapq\n",
    "max_heap = []\n",
    "min_heap = []\n",
    "def add_num(num):\n",
    "    if not max_heap and not min_heap:\n",
    "        heapq.heappush(min_heap,num)\n",
    "        print(max_heap,min_heap)\n",
    "print(add_num(1))"
   ]
  },
  {
   "cell_type": "code",
   "execution_count": 63,
   "metadata": {},
   "outputs": [
    {
     "data": {
      "text/plain": [
       "2"
      ]
     },
     "execution_count": 63,
     "metadata": {},
     "output_type": "execute_result"
    }
   ],
   "source": [
    "10>>2"
   ]
  },
  {
   "cell_type": "code",
   "execution_count": 65,
   "metadata": {},
   "outputs": [
    {
     "data": {
      "text/plain": [
       "3"
      ]
     },
     "execution_count": 65,
     "metadata": {},
     "output_type": "execute_result"
    }
   ],
   "source": [
    "10<<2\n",
    "12>>2"
   ]
  },
  {
   "cell_type": "code",
   "execution_count": 70,
   "metadata": {},
   "outputs": [
    {
     "name": "stdout",
     "output_type": "stream",
     "text": [
      "a 97\n",
      "e 101\n",
      "i 105\n",
      "o 111\n",
      "u 117\n"
     ]
    }
   ],
   "source": [
    "\n",
    "vowels = \"aeiou\" \n",
    "for i in vowels:\n",
    "    print(i,ord(i))"
   ]
  },
  {
   "cell_type": "code",
   "execution_count": null,
   "metadata": {},
   "outputs": [],
   "source": []
  }
 ],
 "metadata": {
  "kernelspec": {
   "display_name": "Python 3",
   "language": "python",
   "name": "python3"
  },
  "language_info": {
   "codemirror_mode": {
    "name": "ipython",
    "version": 3
   },
   "file_extension": ".py",
   "mimetype": "text/x-python",
   "name": "python",
   "nbconvert_exporter": "python",
   "pygments_lexer": "ipython3",
   "version": "3.7.3"
  }
 },
 "nbformat": 4,
 "nbformat_minor": 2
}
