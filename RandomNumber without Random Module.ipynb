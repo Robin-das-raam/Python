{
 "cells": [
  {
   "cell_type": "code",
   "execution_count": 84,
   "id": "13e464f1",
   "metadata": {},
   "outputs": [
    {
     "name": "stdout",
     "output_type": "stream",
     "text": [
      "[0.30706285746165685, 0.8054453580665614, 0.12013302469632263, 0.0757460710945288, 0.06421688574562635]\n",
      "[0.8690703748115666, 0.4657894580000031, 0.5234206060522332, 0.13012591988319808, 0.02633547690992033]\n"
     ]
    }
   ],
   "source": [
    "def LCG(N,S):\n",
    "    a = 7**5\n",
    "    M = 2**31-1\n",
    "    \n",
    "    def F(S):\n",
    "        return (a*S)%M\n",
    "    \n",
    "    U = []\n",
    "    for i in range(N):\n",
    "        S = F(S)\n",
    "        U +=[S/M]\n",
    "        \n",
    "    return U\n",
    "X = LCG(5,6555666)\n",
    "Y = LCG(5,7777434)\n",
    "print(X)\n",
    "print(Y)"
   ]
  },
  {
   "cell_type": "code",
   "execution_count": 89,
   "id": "831fef4c",
   "metadata": {},
   "outputs": [
    {
     "data": {
      "text/plain": [
       "0.5370298636600895"
      ]
     },
     "execution_count": 89,
     "metadata": {},
     "output_type": "execute_result"
    }
   ],
   "source": [
    "d = (X[2]*X[2] + Y[2]*Y[2])**0.5\n",
    "d"
   ]
  },
  {
   "cell_type": "code",
   "execution_count": 103,
   "id": "ce5f4196",
   "metadata": {},
   "outputs": [],
   "source": [
    "pointsInCircle = 0\n",
    "\n",
    "X = LCG(50000,62263)\n",
    "Y = LCG(50000,54632)\n",
    "\n",
    "for i in range(50000):\n",
    "    dist = (X[i]*X[i]+Y[i]*Y[i])**0.5\n",
    "    \n",
    "    if dist < 1:\n",
    "        pointsInCircle +=1\n",
    "        \n",
    "pi = 4*pointsInCircle/50000"
   ]
  },
  {
   "cell_type": "code",
   "execution_count": 104,
   "id": "9d7d7b21",
   "metadata": {},
   "outputs": [
    {
     "data": {
      "text/plain": [
       "3.14136"
      ]
     },
     "execution_count": 104,
     "metadata": {},
     "output_type": "execute_result"
    }
   ],
   "source": [
    "pi"
   ]
  },
  {
   "cell_type": "code",
   "execution_count": null,
   "id": "7211f4ce",
   "metadata": {},
   "outputs": [],
   "source": [
    "pointsInCircle = 0\n"
   ]
  },
  {
   "cell_type": "code",
   "execution_count": 105,
   "id": "a630c80a",
   "metadata": {},
   "outputs": [
    {
     "data": {
      "text/plain": [
       "16807"
      ]
     },
     "execution_count": 105,
     "metadata": {},
     "output_type": "execute_result"
    }
   ],
   "source": [
    "7**5"
   ]
  },
  {
   "cell_type": "code",
   "execution_count": 72,
   "id": "10344e98",
   "metadata": {},
   "outputs": [
    {
     "data": {
      "text/plain": [
       "0.2713199294532628"
      ]
     },
     "execution_count": 72,
     "metadata": {},
     "output_type": "execute_result"
    }
   ],
   "source": [
    "def lcg(x):\n",
    "    a,c,m = 2416, 374441, 1771875\n",
    "    x = (a * x + c)% m\n",
    "    \n",
    "    r = x/m\n",
    "    return r\n",
    "\n",
    "lcg(44)"
   ]
  },
  {
   "cell_type": "code",
   "execution_count": null,
   "id": "ca67965e",
   "metadata": {},
   "outputs": [],
   "source": [
    "x = lcg()"
   ]
  },
  {
   "cell_type": "code",
   "execution_count": 28,
   "id": "e0916706",
   "metadata": {},
   "outputs": [
    {
     "data": {
      "text/plain": [
       "[0.25768465608465607,\n",
       " 0.7774538271604938,\n",
       " 0.5397711463844798,\n",
       " 0.29841439153439153,\n",
       " 0.1804946737213404]"
      ]
     },
     "execution_count": 28,
     "metadata": {},
     "output_type": "execute_result"
    }
   ],
   "source": [
    "def ulcg(x,size):\n",
    "    X = []\n",
    "    for i in range(size):\n",
    "        x ,r = lcg(x)\n",
    "        X.append(r)\n",
    "    return (X)\n",
    "ulcg(34,5)"
   ]
  },
  {
   "cell_type": "code",
   "execution_count": 59,
   "id": "f6a48320",
   "metadata": {},
   "outputs": [
    {
     "ename": "AttributeError",
     "evalue": "'list' object has no attribute 'reshape'",
     "output_type": "error",
     "traceback": [
      "\u001b[0;31m---------------------------------------------------------------------------\u001b[0m",
      "\u001b[0;31mAttributeError\u001b[0m                            Traceback (most recent call last)",
      "\u001b[0;32m/tmp/ipykernel_495853/548535504.py\u001b[0m in \u001b[0;36m<module>\u001b[0;34m\u001b[0m\n\u001b[1;32m      4\u001b[0m     \u001b[0mx\u001b[0m \u001b[0;34m=\u001b[0m \u001b[0;34m[\u001b[0m\u001b[0mulcg\u001b[0m\u001b[0;34m(\u001b[0m\u001b[0;36m55\u001b[0m\u001b[0;34m,\u001b[0m\u001b[0;36m1\u001b[0m\u001b[0;34m)\u001b[0m\u001b[0;34m]\u001b[0m\u001b[0;34m\u001b[0m\u001b[0;34m\u001b[0m\u001b[0m\n\u001b[1;32m      5\u001b[0m     \u001b[0my\u001b[0m \u001b[0;34m=\u001b[0m \u001b[0;34m[\u001b[0m\u001b[0mulcg\u001b[0m\u001b[0;34m(\u001b[0m\u001b[0;36m65\u001b[0m\u001b[0;34m,\u001b[0m\u001b[0;36m1\u001b[0m\u001b[0;34m)\u001b[0m\u001b[0;34m]\u001b[0m\u001b[0;34m\u001b[0m\u001b[0;34m\u001b[0m\u001b[0m\n\u001b[0;32m----> 6\u001b[0;31m     \u001b[0mx\u001b[0m \u001b[0;34m=\u001b[0m \u001b[0mx\u001b[0m\u001b[0;34m.\u001b[0m\u001b[0mreshape\u001b[0m\u001b[0;34m(\u001b[0m\u001b[0;36m2\u001b[0m\u001b[0;34m,\u001b[0m\u001b[0;34m-\u001b[0m\u001b[0;36m1\u001b[0m\u001b[0;34m)\u001b[0m\u001b[0;34m\u001b[0m\u001b[0;34m\u001b[0m\u001b[0m\n\u001b[0m\u001b[1;32m      7\u001b[0m     \u001b[0my\u001b[0m \u001b[0;34m=\u001b[0m \u001b[0my\u001b[0m\u001b[0;34m.\u001b[0m\u001b[0mreshape\u001b[0m\u001b[0;34m(\u001b[0m\u001b[0;36m2\u001b[0m\u001b[0;34m,\u001b[0m\u001b[0;34m-\u001b[0m\u001b[0;36m1\u001b[0m\u001b[0;34m)\u001b[0m\u001b[0;34m\u001b[0m\u001b[0;34m\u001b[0m\u001b[0m\n\u001b[1;32m      8\u001b[0m \u001b[0;34m\u001b[0m\u001b[0m\n",
      "\u001b[0;31mAttributeError\u001b[0m: 'list' object has no attribute 'reshape'"
     ]
    }
   ],
   "source": [
    "pointsInCircle = 0\n",
    "\n",
    "for i in range(0,10000):\n",
    "    x = [ulcg(55,1)]\n",
    "    y = [ulcg(65,1)]\n",
    "\n",
    "    \n",
    "#     dist = (x*x + y*y)**0.5\n",
    "    \n",
    "#     if dist<1:\n",
    "#         pointsInCircle +=1\n",
    "        \n",
    "# pi = 4*pointsInCircle / 10000\n",
    "\n",
    "print(x,y)"
   ]
  },
  {
   "cell_type": "code",
   "execution_count": null,
   "id": "934338bf",
   "metadata": {},
   "outputs": [],
   "source": [
    "def pi_estimator(samples):\n",
    "    points_inside_circle= 0\n",
    "    total_num_points = 0\n",
    "    X,Y = generate_rand(size=2*samples).reshape(2,-1)\n",
    "\n",
    "    for x,y in zip(X,Y):\n",
    "        distance = x**2 + y**2\n",
    "        if distance <= 1:\n",
    "            points_inside_circle +=1\n",
    "        total_num_points += 1\n",
    "    return 4* points_inside_circle/total_num_points"
   ]
  },
  {
   "cell_type": "code",
   "execution_count": 33,
   "id": "0a437a9b",
   "metadata": {},
   "outputs": [
    {
     "data": {
      "text/plain": [
       "0.3928128875751805"
      ]
     },
     "execution_count": 33,
     "metadata": {},
     "output_type": "execute_result"
    }
   ],
   "source": [
    "import random\n",
    "\n",
    "for i in range(1,10):\n",
    "    x = random.random()\n",
    "x"
   ]
  },
  {
   "cell_type": "code",
   "execution_count": 37,
   "id": "84d3860f",
   "metadata": {},
   "outputs": [],
   "source": [
    "import numpy as np"
   ]
  },
  {
   "cell_type": "code",
   "execution_count": 64,
   "id": "8451c9e8",
   "metadata": {},
   "outputs": [
    {
     "data": {
      "text/plain": [
       "array([0.])"
      ]
     },
     "execution_count": 64,
     "metadata": {},
     "output_type": "execute_result"
    }
   ],
   "source": [
    "s = np.zeros(1)\n",
    "s"
   ]
  },
  {
   "cell_type": "code",
   "execution_count": 65,
   "id": "e611db9d",
   "metadata": {},
   "outputs": [],
   "source": [
    "def generate_rand(mult=16807,mod=(2**31)-1, seed=123456789, size=1):\n",
    "    U = np.zeros(size)\n",
    "    X = (seed*mult+1)%mod \n",
    "    U[0] = X/mod \n",
    "    for i in range(1, size):\n",
    "        X = (X*mult+1)%mod\n",
    "        U[i] = X/mod \n",
    "    return U\n",
    "def generate_random(low=0,high=1, seed=123456789, size=1):\n",
    "#Generates uniformly random number between 'low' and 'high' limits\n",
    "    return low+(high-low) *generate_rand(seed=seed, size=size)\n",
    "def pi_estimator(samples):\n",
    "    points_inside_circle= 0\n",
    "    total_num_points = 0\n",
    "    X,Y = generate_rand(size=2*samples).reshape(2,-1)\n",
    "\n",
    "    for x,y in zip(X,Y):\n",
    "        distance = x**2 + y**2\n",
    "        if distance <= 1:\n",
    "            points_inside_circle +=1\n",
    "        total_num_points += 1\n",
    "    return 4* points_inside_circle/total_num_points"
   ]
  },
  {
   "cell_type": "code",
   "execution_count": 70,
   "id": "cfe6e6f7",
   "metadata": {},
   "outputs": [
    {
     "data": {
      "text/plain": [
       "3.066666666666667"
      ]
     },
     "execution_count": 70,
     "metadata": {},
     "output_type": "execute_result"
    }
   ],
   "source": [
    "pi_estimator(30)"
   ]
  },
  {
   "cell_type": "code",
   "execution_count": 52,
   "id": "0ce03b8b",
   "metadata": {},
   "outputs": [],
   "source": [
    "def pi_estimator(samples):\n",
    "    points_inside_circle= 0\n",
    "    total_num_points = 0\n",
    "    X,Y = generate_rand(size=2*samples)\n",
    "    print(X,Y)\n"
   ]
  },
  {
   "cell_type": "code",
   "execution_count": 55,
   "id": "174f3e85",
   "metadata": {},
   "outputs": [
    {
     "name": "stdout",
     "output_type": "stream",
     "text": [
      "0.21841829745956617 0.956325403394329\n"
     ]
    }
   ],
   "source": [
    "pi_estimator(1)"
   ]
  },
  {
   "cell_type": "code",
   "execution_count": 58,
   "id": "08ad7cbf",
   "metadata": {},
   "outputs": [
    {
     "data": {
      "text/plain": [
       "array([0.2184183])"
      ]
     },
     "execution_count": 58,
     "metadata": {},
     "output_type": "execute_result"
    }
   ],
   "source": [
    "def generate_rand(mult=16807,mod=(2**31)-1, seed=123456789, size=1):\n",
    "    U = np.zeros(size)\n",
    "    X = (seed*mult+1)%mod \n",
    "    U[0] = X/mod \n",
    "    for i in range(1, size):\n",
    "        X = (X*mult+1)%mod\n",
    "        U[i] = X/mod \n",
    "    return U\n",
    "\n",
    "generate_rand()"
   ]
  },
  {
   "cell_type": "code",
   "execution_count": null,
   "id": "1d1acdc9",
   "metadata": {},
   "outputs": [],
   "source": []
  }
 ],
 "metadata": {
  "kernelspec": {
   "display_name": "robin",
   "language": "python",
   "name": "robin"
  },
  "language_info": {
   "codemirror_mode": {
    "name": "ipython",
    "version": 3
   },
   "file_extension": ".py",
   "mimetype": "text/x-python",
   "name": "python",
   "nbconvert_exporter": "python",
   "pygments_lexer": "ipython3",
   "version": "3.9.7"
  }
 },
 "nbformat": 4,
 "nbformat_minor": 5
}
