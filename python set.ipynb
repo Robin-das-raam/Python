{
 "cells": [
  {
   "cell_type": "code",
   "execution_count": 3,
   "metadata": {},
   "outputs": [
    {
     "name": "stdout",
     "output_type": "stream",
     "text": [
      "1\n",
      "2\n",
      "3\n",
      "4\n",
      "5\n"
     ]
    }
   ],
   "source": [
    "a = (1,2,3,4,5)\n",
    "for i in set(a):\n",
    "    print(i)\n"
   ]
  },
  {
   "cell_type": "code",
   "execution_count": 11,
   "metadata": {},
   "outputs": [
    {
     "name": "stdout",
     "output_type": "stream",
     "text": [
      "{'red'}\n"
     ]
    }
   ],
   "source": [
    "b = set()\n",
    "b.add(\"red\")\n",
    "print(b)"
   ]
  },
  {
   "cell_type": "code",
   "execution_count": 12,
   "metadata": {},
   "outputs": [
    {
     "name": "stdout",
     "output_type": "stream",
     "text": [
      "{3}\n"
     ]
    }
   ],
   "source": [
    "x = set()\n",
    "x.add(3)\n",
    "print(x)"
   ]
  },
  {
   "cell_type": "code",
   "execution_count": 19,
   "metadata": {},
   "outputs": [
    {
     "name": "stdout",
     "output_type": "stream",
     "text": [
      "{'will', 'fine', 'quite', 'be', 'everything'}\n"
     ]
    }
   ],
   "source": [
    "a = {'keep','quite','everything','will','be','fine'}\n",
    "a.remove('keep')\n",
    "print(a)"
   ]
  },
  {
   "cell_type": "code",
   "execution_count": 23,
   "metadata": {},
   "outputs": [
    {
     "name": "stdout",
     "output_type": "stream",
     "text": [
      "{1, 2, 3, 5, 6, 7}\n",
      "{1, 2, 3, 4, 5, 6, 7}\n"
     ]
    }
   ],
   "source": [
    "m = {1,2,3,4}\n",
    "n = {4,5,6,7}\n",
    "a = m.union(n)\n",
    "c = m.symmetric_difference(n)\n",
    "print(c)\n",
    "print(a)"
   ]
  },
  {
   "cell_type": "code",
   "execution_count": 24,
   "metadata": {},
   "outputs": [
    {
     "name": "stdout",
     "output_type": "stream",
     "text": [
      "88\n"
     ]
    }
   ],
   "source": [
    "r = {34,32,44,5,6,7,88}\n",
    "print(max(r))"
   ]
  },
  {
   "cell_type": "markdown",
   "metadata": {},
   "source": [
    "##Tuple"
   ]
  },
  {
   "cell_type": "code",
   "execution_count": 27,
   "metadata": {},
   "outputs": [
    {
     "name": "stdout",
     "output_type": "stream",
     "text": [
      "<class 'tuple'>\n"
     ]
    }
   ],
   "source": [
    "a = tuple()\n",
    "print(type(a))"
   ]
  },
  {
   "cell_type": "code",
   "execution_count": 35,
   "metadata": {},
   "outputs": [
    {
     "name": "stdout",
     "output_type": "stream",
     "text": [
      "(1, 2, 3, 7, 8, 4, 5, 6)\n"
     ]
    }
   ],
   "source": [
    "a = (1,2,3,4,5,6)\n",
    "a = a[:3] +(7,8) +a[3:]\n",
    "print(str(a))"
   ]
  },
  {
   "cell_type": "code",
   "execution_count": 36,
   "metadata": {},
   "outputs": [
    {
     "name": "stdout",
     "output_type": "stream",
     "text": [
      "fuck\n"
     ]
    }
   ],
   "source": [
    "x = ('f','u','c','k')\n",
    "b = ''.join(x)\n",
    "print(b)"
   ]
  },
  {
   "cell_type": "code",
   "execution_count": 44,
   "metadata": {},
   "outputs": [
    {
     "name": "stdout",
     "output_type": "stream",
     "text": [
      "7\n"
     ]
    }
   ],
   "source": [
    "lst = [1,1,2,2,3,4,5,(6,5)]\n",
    "count = 0\n",
    "for i in lst:\n",
    "    if isinstance(i,tuple):\n",
    "        \n",
    "        break\n",
    "    count +=1\n",
    "print(count)\n",
    "    \n",
    "   "
   ]
  },
  {
   "cell_type": "code",
   "execution_count": 54,
   "metadata": {},
   "outputs": [
    {
     "name": "stdout",
     "output_type": "stream",
     "text": [
      "[('item3', '20.5'), ('item1', '12.0'), ('item2', '10.5')]\n"
     ]
    }
   ],
   "source": [
    "l = [('item1','12.0'),('item2','10.5'),('item3','20.5')]\n",
    "print(sorted(l,key=lambda x: float(x[1]),reverse = True))\n"
   ]
  },
  {
   "cell_type": "code",
   "execution_count": 64,
   "metadata": {},
   "outputs": [
    {
     "name": "stdout",
     "output_type": "stream",
     "text": [
      "[('',), ('a', 'b', 'a')]\n"
     ]
    }
   ],
   "source": [
    "l = [(),(),('',),('a','b','a')]\n",
    "l = [i for i in l if i]\n",
    "print(l)"
   ]
  },
  {
   "cell_type": "code",
   "execution_count": 70,
   "metadata": {},
   "outputs": [
    {
     "name": "stdout",
     "output_type": "stream",
     "text": [
      "[(10, 20, 100), (40, 50, 100), (70, 80, 100)]\n"
     ]
    }
   ],
   "source": [
    "l = [(10,20,30),(40,50,60),(70,80,90)]\n",
    "print([t[:-1]+(100,)for t in l])"
   ]
  },
  {
   "cell_type": "code",
   "execution_count": 71,
   "metadata": {},
   "outputs": [
    {
     "name": "stdout",
     "output_type": "stream",
     "text": [
      "(1, 2, 3, 4)\n"
     ]
    }
   ],
   "source": [
    "l = [1,2,3,4]\n",
    "a = tuple(l)\n",
    "\n",
    "print(a)"
   ]
  },
  {
   "cell_type": "code",
   "execution_count": 77,
   "metadata": {},
   "outputs": [
    {
     "name": "stdout",
     "output_type": "stream",
     "text": [
      "(1, 2, 4)\n"
     ]
    }
   ],
   "source": [
    "a = (1,2,3,4)\n",
    "a  = list(a)\n",
    "a.remove(3)\n",
    "print(tuple(a))"
   ]
  },
  {
   "cell_type": "code",
   "execution_count": 81,
   "metadata": {},
   "outputs": [
    {
     "data": {
      "text/plain": [
       "(1, 3, 6)"
      ]
     },
     "execution_count": 81,
     "metadata": {},
     "output_type": "execute_result"
    }
   ],
   "source": [
    "l = (1,2,3,46,6)\n",
    "b =l[0::2]\n",
    "b"
   ]
  },
  {
   "cell_type": "code",
   "execution_count": 92,
   "metadata": {},
   "outputs": [
    {
     "data": {
      "text/plain": [
       "2"
      ]
     },
     "execution_count": 92,
     "metadata": {},
     "output_type": "execute_result"
    }
   ],
   "source": [
    "a = ('a','b','c','s','f')\n",
    "idx = a.index('c')\n",
    "idx"
   ]
  },
  {
   "cell_type": "code",
   "execution_count": 88,
   "metadata": {},
   "outputs": [
    {
     "name": "stdout",
     "output_type": "stream",
     "text": [
      "[(1, 3, 5), (2, 4, 6)]\n"
     ]
    }
   ],
   "source": [
    "x = [(1,2),(3,4),(5,6)]\n",
    "print(list(zip(*x)))"
   ]
  },
  {
   "cell_type": "code",
   "execution_count": 96,
   "metadata": {},
   "outputs": [
    {
     "name": "stdout",
     "output_type": "stream",
     "text": [
      "{'a': [1, 2, 3], 'b': [1, 2]}\n"
     ]
    }
   ],
   "source": [
    "x = [('a',1),('a',2),('a',3),('b',1),('b',2)]\n",
    "d = {}\n",
    "for a,b in x:\n",
    "    d.setdefault(a,[]).append(b)\n",
    "print(d)"
   ]
  },
  {
   "cell_type": "markdown",
   "metadata": {},
   "source": [
    "## Dictonary"
   ]
  },
  {
   "cell_type": "code",
   "execution_count": 111,
   "metadata": {},
   "outputs": [
    {
     "name": "stdout",
     "output_type": "stream",
     "text": [
      "[('b', 1), ('a', 2), ('c', 4)]\n",
      "[('c', 4), ('a', 2), ('b', 1)]\n"
     ]
    }
   ],
   "source": [
    "import operator\n",
    "dic = {'c':4,'b':1,'a':2}\n",
    "print(sorted(dic.items(),key = operator.itemgetter(1)))\n",
    "print(sorted(dic.items(),key = operator.itemgetter(1),reverse = True))"
   ]
  },
  {
   "cell_type": "code",
   "execution_count": 112,
   "metadata": {},
   "outputs": [
    {
     "data": {
      "text/plain": [
       "{'name': 'ass', 'add': 'ctg', 'age': 24, 'job': 'none'}"
      ]
     },
     "execution_count": 112,
     "metadata": {},
     "output_type": "execute_result"
    }
   ],
   "source": [
    "my_dic = dict(name = 'ass',add = 'ctg',age = 24)\n",
    "my_dic.update(job = 'none')\n",
    "my_dic"
   ]
  },
  {
   "cell_type": "code",
   "execution_count": 115,
   "metadata": {},
   "outputs": [
    {
     "name": "stdout",
     "output_type": "stream",
     "text": [
      "{1: 20, 2: 30, 3: 40, 4: 50, 5: 60, 6: 70}\n"
     ]
    }
   ],
   "source": [
    "a = {1:20,2:30}\n",
    "b = {3:40,4:50}\n",
    "c = {5:60,6:70}\n",
    "d = {}\n",
    "for i in (a,b,c):\n",
    "    d.update(i)\n",
    "print(d)\n"
   ]
  },
  {
   "cell_type": "code",
   "execution_count": 121,
   "metadata": {},
   "outputs": [
    {
     "name": "stdout",
     "output_type": "stream",
     "text": [
      "{1: 1, 2: 4, 3: 9, 4: 16, 5: 25}\n"
     ]
    }
   ],
   "source": [
    "a  = dict()\n",
    "for key in range(1,6):\n",
    "    a[key] = key**2\n",
    "print(a)"
   ]
  },
  {
   "cell_type": "code",
   "execution_count": 126,
   "metadata": {},
   "outputs": [
    {
     "name": "stdout",
     "output_type": "stream",
     "text": [
      "{'x': 10, 'y': 20, 'm': 30, 'n': 40}\n"
     ]
    }
   ],
   "source": [
    "a = dict(x = 10,y = 20)\n",
    "b = dict(m = 30,n = 40)\n",
    "c = a.copy()\n",
    "c.update(b)\n",
    "print(c)"
   ]
  },
  {
   "cell_type": "code",
   "execution_count": 127,
   "metadata": {},
   "outputs": [
    {
     "name": "stdout",
     "output_type": "stream",
     "text": [
      "9384\n"
     ]
    }
   ],
   "source": [
    "a = {'a':12,'b':23,'c':34}\n",
    "res = 1\n",
    "for key in a:\n",
    "    res = res*a[key]\n",
    "print(res)"
   ]
  },
  {
   "cell_type": "code",
   "execution_count": 129,
   "metadata": {},
   "outputs": [
    {
     "data": {
      "text/plain": [
       "{'b': 23, 'c': 34}"
      ]
     },
     "execution_count": 129,
     "metadata": {},
     "output_type": "execute_result"
    }
   ],
   "source": [
    "del a['a']\n",
    "a"
   ]
  },
  {
   "cell_type": "code",
   "execution_count": 130,
   "metadata": {},
   "outputs": [
    {
     "data": {
      "text/plain": [
       "{'fuck': 'hard', 'bitch': 'no', 'hoe': 'no'}"
      ]
     },
     "execution_count": 130,
     "metadata": {},
     "output_type": "execute_result"
    }
   ],
   "source": [
    "a = ['fuck','bitch','hoe']\n",
    "b = ['hard','no','no']\n",
    "c = dict(zip(a,b))\n",
    "c"
   ]
  },
  {
   "cell_type": "code",
   "execution_count": 140,
   "metadata": {},
   "outputs": [
    {
     "name": "stdout",
     "output_type": "stream",
     "text": [
      "y\n"
     ]
    }
   ],
   "source": [
    "a = {'x':23,'y':43,'z':34}\n",
    "print(max(a.keys(),key = (lambda k:a[k])))"
   ]
  },
  {
   "cell_type": "code",
   "execution_count": 153,
   "metadata": {},
   "outputs": [
    {
     "name": "stdout",
     "output_type": "stream",
     "text": [
      "Counter({'a': 8, 'b': 4, 'c': 2})\n",
      "[('a', 8), ('b', 4)]\n",
      "a\n"
     ]
    }
   ],
   "source": [
    "from collections import Counter\n",
    "a= 'aaaaabbbbaaacc'\n",
    "print(Counter(a))\n",
    "b = Counter(a)\n",
    "print(b.most_common(2))\n",
    "print(b.most_common(1)[0][0])"
   ]
  },
  {
   "cell_type": "code",
   "execution_count": 162,
   "metadata": {},
   "outputs": [
    {
     "name": "stdout",
     "output_type": "stream",
     "text": [
      "[(3, 4), (2, 4)]\n"
     ]
    }
   ],
   "source": [
    "from itertools import product\n",
    "a = [2,3]\n",
    "b = [4]\n",
    "c = product(a,b)\n",
    "print(sorted(c,reverse = True))"
   ]
  },
  {
   "cell_type": "code",
   "execution_count": 169,
   "metadata": {},
   "outputs": [
    {
     "name": "stdout",
     "output_type": "stream",
     "text": [
      "[(1, 2, 3), (1, 3, 2), (2, 1, 3), (2, 3, 1), (3, 1, 2), (3, 2, 1)]\n"
     ]
    }
   ],
   "source": [
    "from itertools import permutations\n",
    "a = [1,2,3]\n",
    "b = permutations(a)\n",
    "print(sorted(b))\n"
   ]
  },
  {
   "cell_type": "code",
   "execution_count": 3,
   "metadata": {},
   "outputs": [
    {
     "name": "stdout",
     "output_type": "stream",
     "text": [
      "[1, 3, 6, 11]\n",
      "[1, 2, 6, 30]\n"
     ]
    }
   ],
   "source": [
    "from itertools import accumulate\n",
    "import operator\n",
    "a = [1,2,3,5]\n",
    "print(sorted(set(accumulate(a))))\n",
    "b= accumulate(a,func =operator.mul)\n",
    "print(sorted(set(b)))"
   ]
  },
  {
   "cell_type": "code",
   "execution_count": 182,
   "metadata": {},
   "outputs": [
    {
     "name": "stdout",
     "output_type": "stream",
     "text": [
      "24 [{'name': 'Robin', 'age': 24}]\n",
      "17 [{'name': 'x', 'age': 17}]\n",
      "20 [{'name': 'y', 'age': 20}]\n"
     ]
    }
   ],
   "source": [
    "from itertools import groupby\n",
    "p = [{'name':'Robin','age':24},{'name':'x','age':17},{'name':'y','age':20}]\n",
    "a = groupby(p,key = lambda x: x['age'])\n",
    "for i,j in a:\n",
    "    print(i,list(j))\n"
   ]
  },
  {
   "cell_type": "code",
   "execution_count": 184,
   "metadata": {},
   "outputs": [
    {
     "name": "stdout",
     "output_type": "stream",
     "text": [
      "{'x': 'red', 'y': 'white', 'z': 'black'}\n"
     ]
    }
   ],
   "source": [
    "class dictobj(object):\n",
    "    def __init__(self):\n",
    "        self.x = 'red'\n",
    "        self.y = 'white'\n",
    "        self.z = 'black'\n",
    "    \n",
    "test =  dictobj()\n",
    "print(test.__dict__)"
   ]
  },
  {
   "cell_type": "code",
   "execution_count": 185,
   "metadata": {},
   "outputs": [
    {
     "name": "stdout",
     "output_type": "stream",
     "text": [
      "{'a': 5, 'b': 3, 'c': 4}\n"
     ]
    }
   ],
   "source": [
    "a = {'a':5,'b':3,'c':4,'d':4}\n",
    "res = {}\n",
    "for key ,value in a.items():\n",
    "    if value not in res.values():\n",
    "        res[key] = value\n",
    "print(res)"
   ]
  },
  {
   "cell_type": "code",
   "execution_count": 204,
   "metadata": {},
   "outputs": [
    {
     "name": "stdout",
     "output_type": "stream",
     "text": [
      "{'a': 4, 'b': 4, 'c': 4}\n"
     ]
    }
   ],
   "source": [
    "b = {'a':3,'b':4,'c':4,'a':5}\n",
    "res  = {}\n",
    "for i ,j in b.items():\n",
    "    if (i) not in res.values():\n",
    "        res[i] = value\n",
    "print(res)\n"
   ]
  },
  {
   "cell_type": "code",
   "execution_count": 198,
   "metadata": {},
   "outputs": [
    {
     "name": "stdout",
     "output_type": "stream",
     "text": [
      "calm\n"
     ]
    }
   ],
   "source": [
    "a = {}\n",
    "if not bool(a):\n",
    "    print('calm')"
   ]
  },
  {
   "cell_type": "code",
   "execution_count": 229,
   "metadata": {},
   "outputs": [
    {
     "name": "stdout",
     "output_type": "stream",
     "text": [
      "Counter({'b': 500, 'd': 444, 'a': 400, 'c': 300})\n"
     ]
    }
   ],
   "source": [
    "from collections import Counter\n",
    "a1 = {'a':100,'b':200,'c':300}\n",
    "a2 = {'a':300,'b':300,'d':444}\n",
    "c = Counter(a1) + Counter(a2)\n",
    "print((c))\n"
   ]
  },
  {
   "cell_type": "code",
   "execution_count": 205,
   "metadata": {},
   "outputs": [
    {
     "name": "stdout",
     "output_type": "stream",
     "text": [
      "{'1', '2', '3'}\n"
     ]
    }
   ],
   "source": [
    "a = [{'x':'1'},{'y':'2'},{'z':'3'},{'d':'2'}]\n",
    "b = set(val for dic in a for val in dic.values())\n",
    "print(b)"
   ]
  },
  {
   "cell_type": "code",
   "execution_count": 208,
   "metadata": {},
   "outputs": [
    {
     "name": "stdout",
     "output_type": "stream",
     "text": [
      "[('2',), (['c', 'd'],)]\n"
     ]
    }
   ],
   "source": [
    "from itertools import product\n",
    "x = {'1':['a','b'],'2':['c','d']}\n",
    "for values in x.items():\n",
    "    v = product(values)\n",
    "print(list(v))"
   ]
  },
  {
   "cell_type": "code",
   "execution_count": 212,
   "metadata": {},
   "outputs": [
    {
     "name": "stdout",
     "output_type": "stream",
     "text": [
      "3\n",
      "4\n",
      "5\n"
     ]
    }
   ],
   "source": [
    "x = {'a':3,'b':4,'c':5}\n",
    "for k in sorted(x.keys()):\n",
    "    print (*[x[k]])\n",
    "    "
   ]
  },
  {
   "cell_type": "code",
   "execution_count": 213,
   "metadata": {},
   "outputs": [
    {
     "name": "stdout",
     "output_type": "stream",
     "text": [
      "ac\n",
      "ad\n",
      "bc\n",
      "bd\n"
     ]
    }
   ],
   "source": [
    "import itertools \n",
    "x = {'1':['a','b'],'2':['c','d']}\n",
    "for combo in itertools.product(*[x[k] for k in sorted(x.keys())]):\n",
    "    print(''.join(combo))"
   ]
  },
  {
   "cell_type": "code",
   "execution_count": 223,
   "metadata": {},
   "outputs": [
    {
     "name": "stdout",
     "output_type": "stream",
     "text": [
      "['d', 'c', 'e']\n"
     ]
    }
   ],
   "source": [
    "from heapq import nlargest\n",
    "a = {'a':12,'b':23,'c':34,'d':45,'e':33}\n",
    "x = nlargest(3,a,key = a.get)\n",
    "\n",
    "print(x)"
   ]
  },
  {
   "cell_type": "code",
   "execution_count": 227,
   "metadata": {},
   "outputs": [
    {
     "name": "stdout",
     "output_type": "stream",
     "text": [
      "Counter({'a1': 68, 'a2': 34})\n"
     ]
    }
   ],
   "source": [
    "from collections import Counter\n",
    "y = [{'item':'a1','amount':23},{'item':'a2','amount':34},{'item':'a1','amount':45}]\n",
    "res = Counter()\n",
    "for d in y:\n",
    "    res[d['item']] += d['amount']\n",
    "print(res)"
   ]
  },
  {
   "cell_type": "code",
   "execution_count": 233,
   "metadata": {},
   "outputs": [
    {
     "name": "stdout",
     "output_type": "stream",
     "text": [
      "{'a': 1, 's': 2, 'h': 1, 'o': 1, 'l': 1, 'e': 1}\n"
     ]
    }
   ],
   "source": [
    "from collections import defaultdict,Counter\n",
    "str1 = \"asshole\"\n",
    "d = dict()\n",
    "for i in str1:\n",
    "    d[i] = d.get(i,0)+1\n",
    "print(d)"
   ]
  },
  {
   "cell_type": "code",
   "execution_count": 251,
   "metadata": {},
   "outputs": [
    {
     "name": "stdout",
     "output_type": "stream",
     "text": [
      "a1 1 2 3\n",
      "a2 4 5 6\n",
      "a3 7 8 9\n",
      "\n",
      "a1 a2 a3\n",
      "1 4 7\n",
      "2 5 8\n",
      "3 6 9\n"
     ]
    }
   ],
   "source": [
    "my_dict = {'a1':[1,2,3],'a2':[4,5,6],'a3':[7,8,9]}\n",
    "for row in (([key] + (value) for key,value in (my_dict.items()))):\n",
    "    print(*row)\n",
    "print(\"\")\n",
    "    \n",
    "for row in zip (*([key] + (value) for key,value in (my_dict.items()))):\n",
    "    print(*row)\n"
   ]
  },
  {
   "cell_type": "code",
   "execution_count": 256,
   "metadata": {},
   "outputs": [
    {
     "name": "stdout",
     "output_type": "stream",
     "text": [
      "2\n",
      "6\n"
     ]
    }
   ],
   "source": [
    "x = [{'id':1,'name':'d','success':True},\n",
    "    {'id':2,'name':'e','success':True},\n",
    "     {'id':3,'name':'f','success':False}]\n",
    "print(sum(d['success'] for d in x))\n",
    "print(sum(d['id'] for d in x))"
   ]
  },
  {
   "cell_type": "code",
   "execution_count": 264,
   "metadata": {},
   "outputs": [
    {
     "name": "stdout",
     "output_type": "stream",
     "text": [
      "{1: {2: {3: {4: {5: {}}}}}}\n"
     ]
    }
   ],
   "source": [
    "lst = [1,2,3,4,5]\n",
    "my_dict=current = {}\n",
    "for i in range(len(lst)):\n",
    "    current[i] = {}\n",
    "    current = current[i]\n",
    "print(my_dict)"
   ]
  },
  {
   "cell_type": "code",
   "execution_count": 4,
   "metadata": {},
   "outputs": [
    {
     "name": "stdout",
     "output_type": "stream",
     "text": [
      "{'n1': [1, 2, 3], 'n2': [1, 2, 5], 'n3': [2, 3, 4]}\n"
     ]
    }
   ],
   "source": [
    "num = {'n1': [2, 3, 1], 'n2': [5, 1, 2], 'n3': [3, 2, 4]}\n",
    "a = {x: sorted(y) for x,y in num.items()}\n",
    "print(a)"
   ]
  },
  {
   "cell_type": "code",
   "execution_count": 10,
   "metadata": {},
   "outputs": [
    {
     "name": "stdout",
     "output_type": "stream",
     "text": [
      "item4 55\n",
      "item1 45.5\n",
      "item3 41.3\n"
     ]
    }
   ],
   "source": [
    "from heapq import nlargest\n",
    "from operator import itemgetter\n",
    "x =  {'item1': 45.50, 'item2':35, 'item3': 41.30, 'item4':55, 'item5': 24}\n",
    "for name,value in nlargest(3,x.items(),key = itemgetter(1)):\n",
    "    print(name,value)"
   ]
  },
  {
   "cell_type": "code",
   "execution_count": 14,
   "metadata": {},
   "outputs": [
    {
     "name": "stdout",
     "output_type": "stream",
     "text": [
      " key  value count\n",
      "1   12  1  \n",
      "2   33  2  \n",
      "3   23  3  \n",
      "4   45  4  \n",
      "5   56  5  \n"
     ]
    }
   ],
   "source": [
    "x = {1:12,2:33,3:23,4:45,5:56}\n",
    "print(\" key  value count\")\n",
    "for count ,(key, value ) in enumerate (x.items(), 1):\n",
    "    print( key,' ', value,'', count, ' ')"
   ]
  },
  {
   "cell_type": "code",
   "execution_count": 12,
   "metadata": {
    "scrolled": true
   },
   "outputs": [
    {
     "name": "stdout",
     "output_type": "stream",
     "text": [
      "{'x': [11, 12, 13, 14, 15, 16, 17, 18, 19, 20],\n",
      " 'y': [21, 22, 23, 24, 25, 26, 27, 28, 29, 30],\n",
      " 'z': [31, 32, 33, 34, 35, 36, 37, 38, 39, 40]}\n",
      "15\n",
      "25\n",
      "35\n",
      "x has values [11, 12, 13, 14, 15, 16, 17, 18, 19, 20]\n",
      "y has values [21, 22, 23, 24, 25, 26, 27, 28, 29, 30]\n",
      "z has values [31, 32, 33, 34, 35, 36, 37, 38, 39, 40]\n"
     ]
    }
   ],
   "source": [
    "from pprint import pprint\n",
    "\n",
    "my_dic = dict(x = list(range(11,21)),y = list(range(21,31)),z = list(range(31,41)))\n",
    "pprint(my_dic)\n",
    "print(my_dic['x'][4])\n",
    "print(my_dic['y'][4])\n",
    "print(my_dic['z'][4])\n",
    "\n",
    "for k,v in my_dic.items():\n",
    "    print(k,\"has values\",v)\n"
   ]
  },
  {
   "cell_type": "code",
   "execution_count": 18,
   "metadata": {},
   "outputs": [
    {
     "name": "stdout",
     "output_type": "stream",
     "text": [
      "key1 : 1 is present in both\n"
     ]
    }
   ],
   "source": [
    "x = {'key1':1,'key2':3,'key3':4}\n",
    "y = {'key1':1,'key4':5}\n",
    "for (key,value) in set(x.items()) & set(y.items()):\n",
    "    print(\"%s : %s is present in both\" %(key,value))"
   ]
  },
  {
   "cell_type": "code",
   "execution_count": 20,
   "metadata": {},
   "outputs": [
    {
     "name": "stdout",
     "output_type": "stream",
     "text": [
      "[{'id': 1, 'subject': 'math', 'V+VI': 111.0}, {'id': 2, 'subject': 'math', 'V+VI': 110.0}, {'id': 3, 'subject': 'math', 'V+VI': 118.0}]\n"
     ]
    }
   ],
   "source": [
    "def stud_dic(list_of_dict):\n",
    "    for d in list_of_dict:\n",
    "        n1 = d.pop('V')\n",
    "        n2 = d.pop('VI')\n",
    "        d['V+VI'] = n1+n2/2\n",
    "    return list_of_dict\n",
    "student_details= [\n",
    "  {'id' : 1, 'subject' : 'math', 'V' : 70, 'VI' : 82},\n",
    "  {'id' : 2, 'subject' : 'math', 'V' : 73, 'VI' : 74},\n",
    "  {'id' : 3, 'subject' : 'math', 'V' : 75, 'VI' : 86}\n",
    "]\n",
    "print(stud_dic(student_details))"
   ]
  },
  {
   "cell_type": "code",
   "execution_count": 27,
   "metadata": {},
   "outputs": [
    {
     "name": "stdout",
     "output_type": "stream",
     "text": [
      "defaultdict(<class 'set'>, {'class-1': {1}, 'class-2': {2}, 'class-3': {3}, 'class-4': {4}})\n"
     ]
    }
   ],
   "source": [
    "from collections import defaultdict\n",
    "cls = ['class-1','class-2','class-3','class-4']\n",
    "id_lst = [1,2,3,4]\n",
    "temp = defaultdict(set)\n",
    "for c,i in zip(cls,id_lst):\n",
    "    temp[c].add(i)\n",
    "print(temp)"
   ]
  },
  {
   "cell_type": "code",
   "execution_count": 31,
   "metadata": {},
   "outputs": [
    {
     "name": "stdout",
     "output_type": "stream",
     "text": [
      "[('c', 65), ('a', 54), ('d', 46), ('b', 34)]\n"
     ]
    }
   ],
   "source": [
    "from collections import Counter\n",
    "x = Counter({'a':54,'b':34,'c':65,'d':46})\n",
    "print(x.most_common())"
   ]
  },
  {
   "cell_type": "code",
   "execution_count": null,
   "metadata": {},
   "outputs": [],
   "source": []
  }
 ],
 "metadata": {
  "kernelspec": {
   "display_name": "Python 3",
   "language": "python",
   "name": "python3"
  },
  "language_info": {
   "codemirror_mode": {
    "name": "ipython",
    "version": 3
   },
   "file_extension": ".py",
   "mimetype": "text/x-python",
   "name": "python",
   "nbconvert_exporter": "python",
   "pygments_lexer": "ipython3",
   "version": "3.7.3"
  }
 },
 "nbformat": 4,
 "nbformat_minor": 2
}
